{
  "cells": [
    {
      "cell_type": "code",
      "execution_count": 48,
      "id": "5d4b7145",
      "metadata": {
        "id": "5d4b7145"
      },
      "outputs": [],
      "source": [
        "import numpy as np\n",
        "import torch\n",
        "import torch.nn as nn\n",
        "import torch.optim as optim\n",
        "from torch.utils.data import DataLoader, Dataset\n",
        "import matplotlib.pyplot as plt\n",
        "from tqdm import tqdm\n",
        "\n",
        "from thirdparty.fem_2d_rec import fem_poisson_solver,mesh_fem_2d_rec,get_matrices_2d"
      ]
    },
    {
      "cell_type": "code",
      "execution_count": 49,
      "id": "1665db88",
      "metadata": {},
      "outputs": [
        {
          "name": "stdout",
          "output_type": "stream",
          "text": [
            "Using device: cuda\n"
          ]
        }
      ],
      "source": [
        "device = torch.device('cuda' if torch.cuda.is_available() else 'cpu')\n",
        "print(f\"Using device: {device}\")"
      ]
    },
    {
      "cell_type": "code",
      "execution_count": 50,
      "id": "c33883c2",
      "metadata": {
        "colab": {
          "base_uri": "https://localhost:8080/"
        },
        "id": "c33883c2",
        "outputId": "c299f4db-f1f4-4015-ce96-52ac6ab8ac22"
      },
      "outputs": [
        {
          "name": "stdout",
          "output_type": "stream",
          "text": [
            "Create f_constant.txt.\n"
          ]
        }
      ],
      "source": [
        "f_values = np.arange(-5000, 5000, 2)\n",
        "np.savetxt('./f_constant.txt', f_values, fmt='%f')\n",
        "print(\"Create f_constant.txt.\")"
      ]
    },
    {
      "cell_type": "code",
      "execution_count": 51,
      "id": "ucIGTEAWaRwJ",
      "metadata": {
        "colab": {
          "base_uri": "https://localhost:8080/"
        },
        "id": "ucIGTEAWaRwJ",
        "outputId": "4e742633-316a-487b-da15-4944be12d145"
      },
      "outputs": [
        {
          "name": "stdout",
          "output_type": "stream",
          "text": [
            "Loaded 5000 f values.\n"
          ]
        }
      ],
      "source": [
        "f_values = np.loadtxt('./f_constant.txt')\n",
        "print(f\"Loaded {len(f_values)} f values.\")"
      ]
    },
    {
      "cell_type": "code",
      "execution_count": 52,
      "id": "ac673ab0",
      "metadata": {},
      "outputs": [],
      "source": [
        "def apply_boundary_conditions(f_matrix, g=0):\n",
        "    f = f_matrix.copy()\n",
        "    f[:, 0] = g  # 왼쪽 경계\n",
        "    f[:, -1] = g  # 오른쪽 경계\n",
        "    f[0, :] = g  # 아래쪽 경계\n",
        "    f[-1, :] = g  # 위쪽 경계\n",
        "    return f"
      ]
    },
    {
      "cell_type": "code",
      "execution_count": 53,
      "id": "491e05af",
      "metadata": {
        "colab": {
          "base_uri": "https://localhost:8080/"
        },
        "id": "491e05af",
        "outputId": "d7f4def2-69c1-42fc-917b-262dfd82eb87"
      },
      "outputs": [
        {
          "name": "stdout",
          "output_type": "stream",
          "text": [
            "5000 f matrices with boundary conditions.\n"
          ]
        }
      ],
      "source": [
        "# 256x256 크기의 f 행렬 생성 및 경계 값 0으로 설정\n",
        "input_shape = (256, 256)\n",
        "f_matrices = []\n",
        "for f_value in f_values:\n",
        "    f_matrix = np.full(input_shape, f_value)\n",
        "    f_matrix_with_boundary = apply_boundary_conditions(f_matrix)\n",
        "    f_matrices.append(f_matrix_with_boundary)\n",
        "\n",
        "f_matrices = np.array(f_matrices)\n",
        "print(f\"{len(f_matrices)} f matrices with boundary conditions.\")"
      ]
    },
    {
      "cell_type": "code",
      "execution_count": 54,
      "id": "50H2ZmhoadtV",
      "metadata": {
        "colab": {
          "base_uri": "https://localhost:8080/"
        },
        "id": "50H2ZmhoadtV",
        "outputId": "de019afe-7833-4acf-baca-bd430569a1f9"
      },
      "outputs": [
        {
          "data": {
            "text/plain": [
              "(5000, 256, 256)"
            ]
          },
          "execution_count": 54,
          "metadata": {},
          "output_type": "execute_result"
        }
      ],
      "source": [
        "f_matrices.shape"
      ]
    },
    {
      "cell_type": "code",
      "execution_count": 55,
      "id": "x2zqBW6mRr4J",
      "metadata": {
        "colab": {
          "base_uri": "https://localhost:8080/"
        },
        "id": "x2zqBW6mRr4J",
        "outputId": "18e228ab-b05b-465a-837e-188821298c37"
      },
      "outputs": [
        {
          "data": {
            "text/plain": [
              "array([[    0.,     0.,     0., ...,     0.,     0.,     0.],\n",
              "       [    0., -4994., -4994., ..., -4994., -4994.,     0.],\n",
              "       [    0., -4994., -4994., ..., -4994., -4994.,     0.],\n",
              "       ...,\n",
              "       [    0., -4994., -4994., ..., -4994., -4994.,     0.],\n",
              "       [    0., -4994., -4994., ..., -4994., -4994.,     0.],\n",
              "       [    0.,     0.,     0., ...,     0.,     0.,     0.]])"
            ]
          },
          "execution_count": 55,
          "metadata": {},
          "output_type": "execute_result"
        }
      ],
      "source": [
        "f_matrices[3]"
      ]
    },
    {
      "cell_type": "code",
      "execution_count": 56,
      "id": "9fc53484",
      "metadata": {
        "id": "9fc53484"
      },
      "outputs": [],
      "source": [
        "class PoissonDataset(Dataset):\n",
        "    def __init__(self, f_matrices):\n",
        "        self.f_matrices = f_matrices\n",
        "\n",
        "    def __len__(self):\n",
        "        return len(self.f_matrices)\n",
        "\n",
        "    def __getitem__(self, idx):\n",
        "        f_matrix = self.f_matrices[idx]\n",
        "        f_tensor = torch.tensor(f_matrix).unsqueeze(0).float()  # (1, H, W) 형태로 변환\n",
        "        return f_tensor"
      ]
    },
    {
      "cell_type": "code",
      "execution_count": 57,
      "id": "45df9791",
      "metadata": {
        "id": "45df9791"
      },
      "outputs": [],
      "source": [
        "dataset = PoissonDataset(f_matrices)\n",
        "train_loader = DataLoader(dataset, batch_size=32, shuffle=True)"
      ]
    },
    {
      "cell_type": "code",
      "execution_count": 58,
      "id": "a1b214ff",
      "metadata": {
        "id": "a1b214ff"
      },
      "outputs": [],
      "source": [
        "def create_boundary_mask(size):\n",
        "    mask = torch.ones(size, dtype=torch.float32)\n",
        "    mask[:, 0] = 0  # 왼쪽 경계\n",
        "    mask[:, -1] = 0  # 오른쪽 경계\n",
        "    mask[0, :] = 0  # 아래쪽 경계\n",
        "    mask[-1, :] = 0  # 위쪽 경계\n",
        "    return mask.unsqueeze(0).unsqueeze(0)  # (1, 1, H, W) 형태로 변환\n",
        "\n",
        "# 경계 마스크 생성\n",
        "boundary_mask = create_boundary_mask((256, 256)).to(device)"
      ]
    },
    {
      "cell_type": "code",
      "execution_count": 59,
      "id": "ab86afe6",
      "metadata": {},
      "outputs": [
        {
          "data": {
            "text/plain": [
              "(tensor([[[[0., 0., 0.,  ..., 0., 0., 0.],\n",
              "           [0., 1., 1.,  ..., 1., 1., 0.],\n",
              "           [0., 1., 1.,  ..., 1., 1., 0.],\n",
              "           ...,\n",
              "           [0., 1., 1.,  ..., 1., 1., 0.],\n",
              "           [0., 1., 1.,  ..., 1., 1., 0.],\n",
              "           [0., 0., 0.,  ..., 0., 0., 0.]]]], device='cuda:0'),\n",
              " tensor([[[[1., 1., 1.,  ..., 1., 1., 1.],\n",
              "           [1., 0., 0.,  ..., 0., 0., 1.],\n",
              "           [1., 0., 0.,  ..., 0., 0., 1.],\n",
              "           ...,\n",
              "           [1., 0., 0.,  ..., 0., 0., 1.],\n",
              "           [1., 0., 0.,  ..., 0., 0., 1.],\n",
              "           [1., 1., 1.,  ..., 1., 1., 1.]]]], device='cuda:0'))"
            ]
          },
          "execution_count": 59,
          "metadata": {},
          "output_type": "execute_result"
        }
      ],
      "source": [
        "boundary_mask, 1-boundary_mask"
      ]
    },
    {
      "cell_type": "code",
      "execution_count": 60,
      "id": "c4bcb08a",
      "metadata": {
        "id": "c4bcb08a"
      },
      "outputs": [],
      "source": [
        "def unsupervised_loss(u_pred, f, h, boundary_mask):\n",
        "    laplacian_filter = torch.tensor([[0, -1, 0], [-1, 4, -1], [0, -1, 0]], dtype=torch.float32).unsqueeze(0).unsqueeze(0).to(u_pred.device) # (1, 1, H, W) 형태로 변환 / 마이너스 라플라시안 필터\n",
        "    laplacian_u = torch.nn.functional.conv2d(u_pred, laplacian_filter, padding=1)\n",
        "\n",
        "    # 내부 손실 계산 (경계를 제외한 부분)\n",
        "    interior_loss = torch.sum(((f*h**2 - laplacian_u) ** 2) * boundary_mask)\n",
        "\n",
        "    # 경계 손실 계산 (경계에서의 값이 0이 되도록)\n",
        "    boundary_loss = torch.sum(((u_pred)* (1 - boundary_mask)) ** 2)\n",
        "\n",
        "    return interior_loss + boundary_loss"
      ]
    },
    {
      "cell_type": "code",
      "execution_count": 61,
      "id": "23af1c71",
      "metadata": {
        "id": "23af1c71"
      },
      "outputs": [],
      "source": [
        "class Autoencoder(nn.Module):\n",
        "    def __init__(self, rep_dim=128):\n",
        "        super(Autoencoder, self).__init__()\n",
        "\n",
        "        # Encoder\n",
        "        self.encoder = nn.Sequential(\n",
        "            nn.Conv2d(1, 32, kernel_size=4, stride=2, padding=1),\n",
        "            nn.BatchNorm2d(32),\n",
        "            nn.ReLU(),\n",
        "            nn.Conv2d(32, 64, kernel_size=4, stride=2, padding=1),\n",
        "            nn.BatchNorm2d(64),\n",
        "            nn.ReLU(),\n",
        "            nn.Conv2d(64, 128, kernel_size=4, stride=2, padding=1),\n",
        "            nn.BatchNorm2d(128),\n",
        "            nn.ReLU(),\n",
        "            nn.Flatten(),\n",
        "            nn.Linear(128 * 32 * 32, rep_dim),\n",
        "            nn.ReLU()\n",
        "        )\n",
        "\n",
        "        # Latent space\n",
        "        self.fc = nn.Linear(rep_dim, rep_dim)\n",
        "\n",
        "        # Decoder\n",
        "        self.decoder = nn.Sequential(\n",
        "            nn.Linear(rep_dim, 128 * 32 * 32),\n",
        "            nn.ReLU(),\n",
        "            nn.Unflatten(1, (128, 32, 32)),\n",
        "            nn.ConvTranspose2d(128, 64, kernel_size=4, stride=2, padding=1),\n",
        "            nn.BatchNorm2d(64),\n",
        "            nn.ReLU(),\n",
        "            nn.ConvTranspose2d(64, 32, kernel_size=4, stride=2, padding=1),\n",
        "            nn.BatchNorm2d(32),\n",
        "            nn.ReLU(),\n",
        "            nn.ConvTranspose2d(32, 1, kernel_size=4, stride=2, padding=1),\n",
        "            nn.Sigmoid()\n",
        "        )\n",
        "\n",
        "    def forward(self, x):\n",
        "        encoded = self.encoder(x)\n",
        "        latent = self.fc(encoded)\n",
        "        u_pred = self.decoder(latent)\n",
        "        return u_pred, latent"
      ]
    },
    {
      "cell_type": "code",
      "execution_count": 62,
      "id": "Rnz55xdRvUOJ",
      "metadata": {
        "id": "Rnz55xdRvUOJ"
      },
      "outputs": [],
      "source": [
        "a = 0\n",
        "b = 1\n",
        "k = 1\n",
        "M = 255\n",
        "h = 1 / M"
      ]
    },
    {
      "cell_type": "code",
      "execution_count": 63,
      "id": "225c692e",
      "metadata": {},
      "outputs": [
        {
          "name": "stderr",
          "output_type": "stream",
          "text": [
            "  1%|          | 1/100 [00:03<05:46,  3.50s/it]"
          ]
        },
        {
          "name": "stdout",
          "output_type": "stream",
          "text": [
            "Loss: 49374.85724460091\n"
          ]
        },
        {
          "name": "stderr",
          "output_type": "stream",
          "text": [
            "  2%|▏         | 2/100 [00:06<05:42,  3.50s/it]"
          ]
        },
        {
          "name": "stdout",
          "output_type": "stream",
          "text": [
            "Loss: 10045.615590478204\n"
          ]
        },
        {
          "name": "stderr",
          "output_type": "stream",
          "text": [
            "  3%|▎         | 3/100 [00:10<05:40,  3.51s/it]"
          ]
        },
        {
          "name": "stdout",
          "output_type": "stream",
          "text": [
            "Loss: 8768.285908887341\n"
          ]
        },
        {
          "name": "stderr",
          "output_type": "stream",
          "text": [
            "  4%|▍         | 4/100 [00:14<05:36,  3.51s/it]"
          ]
        },
        {
          "name": "stdout",
          "output_type": "stream",
          "text": [
            "Loss: 7507.877544038614\n"
          ]
        },
        {
          "name": "stderr",
          "output_type": "stream",
          "text": [
            "  5%|▌         | 5/100 [00:17<05:32,  3.50s/it]"
          ]
        },
        {
          "name": "stdout",
          "output_type": "stream",
          "text": [
            "Loss: 6159.106972469645\n"
          ]
        },
        {
          "name": "stderr",
          "output_type": "stream",
          "text": [
            "  6%|▌         | 6/100 [00:21<05:30,  3.51s/it]"
          ]
        },
        {
          "name": "stdout",
          "output_type": "stream",
          "text": [
            "Loss: 5137.629854044337\n"
          ]
        },
        {
          "name": "stderr",
          "output_type": "stream",
          "text": [
            "  7%|▋         | 7/100 [00:24<05:28,  3.54s/it]"
          ]
        },
        {
          "name": "stdout",
          "output_type": "stream",
          "text": [
            "Loss: 4560.10577431454\n"
          ]
        },
        {
          "name": "stderr",
          "output_type": "stream",
          "text": [
            "  8%|▊         | 8/100 [00:28<05:28,  3.57s/it]"
          ]
        },
        {
          "name": "stdout",
          "output_type": "stream",
          "text": [
            "Loss: 4346.6228291699845\n"
          ]
        },
        {
          "name": "stderr",
          "output_type": "stream",
          "text": [
            "  9%|▉         | 9/100 [00:31<05:24,  3.57s/it]"
          ]
        },
        {
          "name": "stdout",
          "output_type": "stream",
          "text": [
            "Loss: 4257.387811940187\n"
          ]
        },
        {
          "name": "stderr",
          "output_type": "stream",
          "text": [
            " 10%|█         | 10/100 [00:35<05:21,  3.58s/it]"
          ]
        },
        {
          "name": "stdout",
          "output_type": "stream",
          "text": [
            "Loss: 4162.4247253806725\n"
          ]
        },
        {
          "name": "stderr",
          "output_type": "stream",
          "text": [
            " 11%|█         | 11/100 [00:38<05:17,  3.57s/it]"
          ]
        },
        {
          "name": "stdout",
          "output_type": "stream",
          "text": [
            "Loss: 4115.621593694019\n"
          ]
        },
        {
          "name": "stderr",
          "output_type": "stream",
          "text": [
            " 12%|█▏        | 12/100 [00:42<05:12,  3.55s/it]"
          ]
        },
        {
          "name": "stdout",
          "output_type": "stream",
          "text": [
            "Loss: 4097.857929594198\n"
          ]
        },
        {
          "name": "stderr",
          "output_type": "stream",
          "text": [
            " 13%|█▎        | 13/100 [00:46<05:07,  3.54s/it]"
          ]
        },
        {
          "name": "stdout",
          "output_type": "stream",
          "text": [
            "Loss: 4087.8336344919385\n"
          ]
        },
        {
          "name": "stderr",
          "output_type": "stream",
          "text": [
            " 14%|█▍        | 14/100 [00:49<05:04,  3.53s/it]"
          ]
        },
        {
          "name": "stdout",
          "output_type": "stream",
          "text": [
            "Loss: 4076.1601127089966\n"
          ]
        },
        {
          "name": "stderr",
          "output_type": "stream",
          "text": [
            " 15%|█▌        | 15/100 [00:53<05:00,  3.54s/it]"
          ]
        },
        {
          "name": "stdout",
          "output_type": "stream",
          "text": [
            "Loss: 4063.5261012763735\n"
          ]
        },
        {
          "name": "stderr",
          "output_type": "stream",
          "text": [
            " 16%|█▌        | 16/100 [00:56<04:56,  3.53s/it]"
          ]
        },
        {
          "name": "stdout",
          "output_type": "stream",
          "text": [
            "Loss: 4057.52381770626\n"
          ]
        },
        {
          "name": "stderr",
          "output_type": "stream",
          "text": [
            " 17%|█▋        | 17/100 [01:00<04:55,  3.56s/it]"
          ]
        },
        {
          "name": "stdout",
          "output_type": "stream",
          "text": [
            "Loss: 4055.311692158887\n"
          ]
        },
        {
          "name": "stderr",
          "output_type": "stream",
          "text": [
            " 18%|█▊        | 18/100 [01:03<04:53,  3.58s/it]"
          ]
        },
        {
          "name": "stdout",
          "output_type": "stream",
          "text": [
            "Loss: 4051.260689316282\n"
          ]
        },
        {
          "name": "stderr",
          "output_type": "stream",
          "text": [
            " 19%|█▉        | 19/100 [01:07<04:53,  3.63s/it]"
          ]
        },
        {
          "name": "stdout",
          "output_type": "stream",
          "text": [
            "Loss: 4047.036401833698\n"
          ]
        },
        {
          "name": "stderr",
          "output_type": "stream",
          "text": [
            " 20%|██        | 20/100 [01:11<04:52,  3.66s/it]"
          ]
        },
        {
          "name": "stdout",
          "output_type": "stream",
          "text": [
            "Loss: 4043.7523963102108\n"
          ]
        },
        {
          "name": "stderr",
          "output_type": "stream",
          "text": [
            " 21%|██        | 21/100 [01:15<04:51,  3.69s/it]"
          ]
        },
        {
          "name": "stdout",
          "output_type": "stream",
          "text": [
            "Loss: 4040.0969953597732\n"
          ]
        },
        {
          "name": "stderr",
          "output_type": "stream",
          "text": [
            " 22%|██▏       | 22/100 [01:18<04:49,  3.71s/it]"
          ]
        },
        {
          "name": "stdout",
          "output_type": "stream",
          "text": [
            "Loss: 4037.0346380343103\n"
          ]
        },
        {
          "name": "stderr",
          "output_type": "stream",
          "text": [
            " 23%|██▎       | 23/100 [01:22<04:43,  3.68s/it]"
          ]
        },
        {
          "name": "stdout",
          "output_type": "stream",
          "text": [
            "Loss: 4033.857096872512\n"
          ]
        },
        {
          "name": "stderr",
          "output_type": "stream",
          "text": [
            " 24%|██▍       | 24/100 [01:26<04:38,  3.67s/it]"
          ]
        },
        {
          "name": "stdout",
          "output_type": "stream",
          "text": [
            "Loss: 4032.6885994103304\n"
          ]
        },
        {
          "name": "stderr",
          "output_type": "stream",
          "text": [
            " 25%|██▌       | 25/100 [01:29<04:33,  3.65s/it]"
          ]
        },
        {
          "name": "stdout",
          "output_type": "stream",
          "text": [
            "Loss: 4029.7396341311705\n"
          ]
        },
        {
          "name": "stderr",
          "output_type": "stream",
          "text": [
            " 26%|██▌       | 26/100 [01:33<04:29,  3.64s/it]"
          ]
        },
        {
          "name": "stdout",
          "output_type": "stream",
          "text": [
            "Loss: 4030.396005035206\n"
          ]
        },
        {
          "name": "stderr",
          "output_type": "stream",
          "text": [
            " 27%|██▋       | 27/100 [01:37<04:27,  3.67s/it]"
          ]
        },
        {
          "name": "stdout",
          "output_type": "stream",
          "text": [
            "Loss: 4027.8272837256172\n"
          ]
        },
        {
          "name": "stderr",
          "output_type": "stream",
          "text": [
            " 28%|██▊       | 28/100 [01:40<04:24,  3.68s/it]"
          ]
        },
        {
          "name": "stdout",
          "output_type": "stream",
          "text": [
            "Loss: 4025.1371719457543\n"
          ]
        },
        {
          "name": "stderr",
          "output_type": "stream",
          "text": [
            " 29%|██▉       | 29/100 [01:44<04:19,  3.66s/it]"
          ]
        },
        {
          "name": "stdout",
          "output_type": "stream",
          "text": [
            "Loss: 4025.8825565022266\n"
          ]
        },
        {
          "name": "stderr",
          "output_type": "stream",
          "text": [
            " 30%|███       | 30/100 [01:48<04:16,  3.67s/it]"
          ]
        },
        {
          "name": "stdout",
          "output_type": "stream",
          "text": [
            "Loss: 4020.5738890824045\n"
          ]
        },
        {
          "name": "stderr",
          "output_type": "stream",
          "text": [
            " 31%|███       | 31/100 [01:51<04:13,  3.67s/it]"
          ]
        },
        {
          "name": "stdout",
          "output_type": "stream",
          "text": [
            "Loss: 4018.180847751107\n"
          ]
        },
        {
          "name": "stderr",
          "output_type": "stream",
          "text": [
            " 32%|███▏      | 32/100 [01:55<04:11,  3.69s/it]"
          ]
        },
        {
          "name": "stdout",
          "output_type": "stream",
          "text": [
            "Loss: 4014.5243448634055\n"
          ]
        },
        {
          "name": "stderr",
          "output_type": "stream",
          "text": [
            " 33%|███▎      | 33/100 [01:59<04:06,  3.68s/it]"
          ]
        },
        {
          "name": "stdout",
          "output_type": "stream",
          "text": [
            "Loss: 4016.1806877767963\n"
          ]
        },
        {
          "name": "stderr",
          "output_type": "stream",
          "text": [
            " 34%|███▍      | 34/100 [02:02<04:03,  3.68s/it]"
          ]
        },
        {
          "name": "stdout",
          "output_type": "stream",
          "text": [
            "Loss: 4016.057446133559\n"
          ]
        },
        {
          "name": "stderr",
          "output_type": "stream",
          "text": [
            " 35%|███▌      | 35/100 [02:06<03:59,  3.68s/it]"
          ]
        },
        {
          "name": "stdout",
          "output_type": "stream",
          "text": [
            "Loss: 4014.5957171203227\n"
          ]
        },
        {
          "name": "stderr",
          "output_type": "stream",
          "text": [
            " 36%|███▌      | 36/100 [02:10<03:55,  3.68s/it]"
          ]
        },
        {
          "name": "stdout",
          "output_type": "stream",
          "text": [
            "Loss: 4011.2056223875397\n"
          ]
        },
        {
          "name": "stderr",
          "output_type": "stream",
          "text": [
            " 37%|███▋      | 37/100 [02:13<03:53,  3.71s/it]"
          ]
        },
        {
          "name": "stdout",
          "output_type": "stream",
          "text": [
            "Loss: 4014.622966013137\n"
          ]
        },
        {
          "name": "stderr",
          "output_type": "stream",
          "text": [
            " 38%|███▊      | 38/100 [02:17<03:49,  3.71s/it]"
          ]
        },
        {
          "name": "stdout",
          "output_type": "stream",
          "text": [
            "Loss: 4004.4048170344845\n"
          ]
        },
        {
          "name": "stderr",
          "output_type": "stream",
          "text": [
            " 39%|███▉      | 39/100 [02:21<03:45,  3.70s/it]"
          ]
        },
        {
          "name": "stdout",
          "output_type": "stream",
          "text": [
            "Loss: 4001.5765213693026\n"
          ]
        },
        {
          "name": "stderr",
          "output_type": "stream",
          "text": [
            " 40%|████      | 40/100 [02:25<03:41,  3.69s/it]"
          ]
        },
        {
          "name": "stdout",
          "output_type": "stream",
          "text": [
            "Loss: 3995.098569056031\n"
          ]
        },
        {
          "name": "stderr",
          "output_type": "stream",
          "text": [
            " 41%|████      | 41/100 [02:28<03:37,  3.69s/it]"
          ]
        },
        {
          "name": "stdout",
          "output_type": "stream",
          "text": [
            "Loss: 3992.776927777916\n"
          ]
        },
        {
          "name": "stderr",
          "output_type": "stream",
          "text": [
            " 42%|████▏     | 42/100 [02:32<03:34,  3.69s/it]"
          ]
        },
        {
          "name": "stdout",
          "output_type": "stream",
          "text": [
            "Loss: 3985.1229613480295\n"
          ]
        },
        {
          "name": "stderr",
          "output_type": "stream",
          "text": [
            " 43%|████▎     | 43/100 [02:35<03:28,  3.67s/it]"
          ]
        },
        {
          "name": "stdout",
          "output_type": "stream",
          "text": [
            "Loss: 3984.8133090073893\n"
          ]
        },
        {
          "name": "stderr",
          "output_type": "stream",
          "text": [
            " 44%|████▍     | 44/100 [02:39<03:26,  3.69s/it]"
          ]
        },
        {
          "name": "stdout",
          "output_type": "stream",
          "text": [
            "Loss: 3975.359671234325\n"
          ]
        },
        {
          "name": "stderr",
          "output_type": "stream",
          "text": [
            " 45%|████▌     | 45/100 [02:43<03:23,  3.71s/it]"
          ]
        },
        {
          "name": "stdout",
          "output_type": "stream",
          "text": [
            "Loss: 3973.5697830103004\n"
          ]
        },
        {
          "name": "stderr",
          "output_type": "stream",
          "text": [
            " 46%|████▌     | 46/100 [02:47<03:20,  3.70s/it]"
          ]
        },
        {
          "name": "stdout",
          "output_type": "stream",
          "text": [
            "Loss: 3974.3783464371018\n"
          ]
        },
        {
          "name": "stderr",
          "output_type": "stream",
          "text": [
            " 47%|████▋     | 47/100 [02:50<03:15,  3.69s/it]"
          ]
        },
        {
          "name": "stdout",
          "output_type": "stream",
          "text": [
            "Loss: 3965.81360329792\n"
          ]
        },
        {
          "name": "stderr",
          "output_type": "stream",
          "text": [
            " 48%|████▊     | 48/100 [02:54<03:11,  3.69s/it]"
          ]
        },
        {
          "name": "stdout",
          "output_type": "stream",
          "text": [
            "Loss: 3964.0895657873457\n"
          ]
        },
        {
          "name": "stderr",
          "output_type": "stream",
          "text": [
            " 49%|████▉     | 49/100 [02:58<03:08,  3.69s/it]"
          ]
        },
        {
          "name": "stdout",
          "output_type": "stream",
          "text": [
            "Loss: 3963.223466423666\n"
          ]
        },
        {
          "name": "stderr",
          "output_type": "stream",
          "text": [
            " 50%|█████     | 50/100 [03:01<03:03,  3.68s/it]"
          ]
        },
        {
          "name": "stdout",
          "output_type": "stream",
          "text": [
            "Loss: 3957.602283259106\n"
          ]
        },
        {
          "name": "stderr",
          "output_type": "stream",
          "text": [
            " 51%|█████     | 51/100 [03:05<02:59,  3.66s/it]"
          ]
        },
        {
          "name": "stdout",
          "output_type": "stream",
          "text": [
            "Loss: 3949.0698906965317\n"
          ]
        },
        {
          "name": "stderr",
          "output_type": "stream",
          "text": [
            " 52%|█████▏    | 52/100 [03:09<02:55,  3.66s/it]"
          ]
        },
        {
          "name": "stdout",
          "output_type": "stream",
          "text": [
            "Loss: 3951.7012815050257\n"
          ]
        },
        {
          "name": "stderr",
          "output_type": "stream",
          "text": [
            " 53%|█████▎    | 53/100 [03:12<02:52,  3.67s/it]"
          ]
        },
        {
          "name": "stdout",
          "output_type": "stream",
          "text": [
            "Loss: 3946.3711584783664\n"
          ]
        },
        {
          "name": "stderr",
          "output_type": "stream",
          "text": [
            " 54%|█████▍    | 54/100 [03:16<02:47,  3.64s/it]"
          ]
        },
        {
          "name": "stdout",
          "output_type": "stream",
          "text": [
            "Loss: 3936.180367828175\n"
          ]
        },
        {
          "name": "stderr",
          "output_type": "stream",
          "text": [
            " 55%|█████▌    | 55/100 [03:20<02:45,  3.67s/it]"
          ]
        },
        {
          "name": "stdout",
          "output_type": "stream",
          "text": [
            "Loss: 3943.4727689900974\n"
          ]
        },
        {
          "name": "stderr",
          "output_type": "stream",
          "text": [
            " 56%|█████▌    | 56/100 [03:23<02:40,  3.65s/it]"
          ]
        },
        {
          "name": "stdout",
          "output_type": "stream",
          "text": [
            "Loss: 3939.671487018561\n"
          ]
        },
        {
          "name": "stderr",
          "output_type": "stream",
          "text": [
            " 57%|█████▋    | 57/100 [03:27<02:37,  3.66s/it]"
          ]
        },
        {
          "name": "stdout",
          "output_type": "stream",
          "text": [
            "Loss: 3927.8077567519654\n"
          ]
        },
        {
          "name": "stderr",
          "output_type": "stream",
          "text": [
            " 58%|█████▊    | 58/100 [03:31<02:35,  3.70s/it]"
          ]
        },
        {
          "name": "stdout",
          "output_type": "stream",
          "text": [
            "Loss: 3926.65027516359\n"
          ]
        },
        {
          "name": "stderr",
          "output_type": "stream",
          "text": [
            " 59%|█████▉    | 59/100 [03:34<02:31,  3.71s/it]"
          ]
        },
        {
          "name": "stdout",
          "output_type": "stream",
          "text": [
            "Loss: 3928.9325573186206\n"
          ]
        },
        {
          "name": "stderr",
          "output_type": "stream",
          "text": [
            " 60%|██████    | 60/100 [03:38<02:29,  3.73s/it]"
          ]
        },
        {
          "name": "stdout",
          "output_type": "stream",
          "text": [
            "Loss: 3920.667552777916\n"
          ]
        },
        {
          "name": "stderr",
          "output_type": "stream",
          "text": [
            " 61%|██████    | 61/100 [03:42<02:24,  3.70s/it]"
          ]
        },
        {
          "name": "stdout",
          "output_type": "stream",
          "text": [
            "Loss: 3922.4639153936105\n"
          ]
        },
        {
          "name": "stderr",
          "output_type": "stream",
          "text": [
            " 62%|██████▏   | 62/100 [03:45<02:19,  3.67s/it]"
          ]
        },
        {
          "name": "stdout",
          "output_type": "stream",
          "text": [
            "Loss: 3918.103930042048\n"
          ]
        },
        {
          "name": "stderr",
          "output_type": "stream",
          "text": [
            " 63%|██████▎   | 63/100 [03:49<02:16,  3.68s/it]"
          ]
        },
        {
          "name": "stdout",
          "output_type": "stream",
          "text": [
            "Loss: 3921.442357543168\n"
          ]
        },
        {
          "name": "stderr",
          "output_type": "stream",
          "text": [
            " 64%|██████▍   | 64/100 [03:53<02:12,  3.67s/it]"
          ]
        },
        {
          "name": "stdout",
          "output_type": "stream",
          "text": [
            "Loss: 3898.2465485979797\n"
          ]
        },
        {
          "name": "stderr",
          "output_type": "stream",
          "text": [
            " 65%|██████▌   | 65/100 [03:57<02:08,  3.67s/it]"
          ]
        },
        {
          "name": "stdout",
          "output_type": "stream",
          "text": [
            "Loss: 3893.0901360967355\n"
          ]
        },
        {
          "name": "stderr",
          "output_type": "stream",
          "text": [
            " 66%|██████▌   | 66/100 [04:00<02:04,  3.67s/it]"
          ]
        },
        {
          "name": "stdout",
          "output_type": "stream",
          "text": [
            "Loss: 3885.0000198267066\n"
          ]
        },
        {
          "name": "stderr",
          "output_type": "stream",
          "text": [
            " 67%|██████▋   | 67/100 [04:04<02:01,  3.67s/it]"
          ]
        },
        {
          "name": "stdout",
          "output_type": "stream",
          "text": [
            "Loss: 3878.340975038565\n"
          ]
        },
        {
          "name": "stderr",
          "output_type": "stream",
          "text": [
            " 68%|██████▊   | 68/100 [04:07<01:56,  3.65s/it]"
          ]
        },
        {
          "name": "stdout",
          "output_type": "stream",
          "text": [
            "Loss: 3881.6727271596337\n"
          ]
        },
        {
          "name": "stderr",
          "output_type": "stream",
          "text": [
            " 69%|██████▉   | 69/100 [04:11<01:53,  3.65s/it]"
          ]
        },
        {
          "name": "stdout",
          "output_type": "stream",
          "text": [
            "Loss: 3874.177002730643\n"
          ]
        },
        {
          "name": "stderr",
          "output_type": "stream",
          "text": [
            " 70%|███████   | 70/100 [04:15<01:49,  3.65s/it]"
          ]
        },
        {
          "name": "stdout",
          "output_type": "stream",
          "text": [
            "Loss: 3873.5464283159586\n"
          ]
        },
        {
          "name": "stderr",
          "output_type": "stream",
          "text": [
            " 71%|███████   | 71/100 [04:18<01:45,  3.64s/it]"
          ]
        },
        {
          "name": "stdout",
          "output_type": "stream",
          "text": [
            "Loss: 3874.133156940436\n"
          ]
        },
        {
          "name": "stderr",
          "output_type": "stream",
          "text": [
            " 72%|███████▏  | 72/100 [04:22<01:42,  3.65s/it]"
          ]
        },
        {
          "name": "stdout",
          "output_type": "stream",
          "text": [
            "Loss: 3867.976573385251\n"
          ]
        },
        {
          "name": "stderr",
          "output_type": "stream",
          "text": [
            " 73%|███████▎  | 73/100 [04:26<01:38,  3.64s/it]"
          ]
        },
        {
          "name": "stdout",
          "output_type": "stream",
          "text": [
            "Loss: 3866.31336848751\n"
          ]
        },
        {
          "name": "stderr",
          "output_type": "stream",
          "text": [
            " 74%|███████▍  | 74/100 [04:29<01:34,  3.65s/it]"
          ]
        },
        {
          "name": "stdout",
          "output_type": "stream",
          "text": [
            "Loss: 3870.030686299512\n"
          ]
        },
        {
          "name": "stderr",
          "output_type": "stream",
          "text": [
            " 75%|███████▌  | 75/100 [04:33<01:31,  3.64s/it]"
          ]
        },
        {
          "name": "stdout",
          "output_type": "stream",
          "text": [
            "Loss: 3859.026992700662\n"
          ]
        },
        {
          "name": "stderr",
          "output_type": "stream",
          "text": [
            " 76%|███████▌  | 76/100 [04:37<01:27,  3.63s/it]"
          ]
        },
        {
          "name": "stdout",
          "output_type": "stream",
          "text": [
            "Loss: 3857.6325003265574\n"
          ]
        },
        {
          "name": "stderr",
          "output_type": "stream",
          "text": [
            " 77%|███████▋  | 77/100 [04:40<01:23,  3.63s/it]"
          ]
        },
        {
          "name": "stdout",
          "output_type": "stream",
          "text": [
            "Loss: 3862.419071659161\n"
          ]
        },
        {
          "name": "stderr",
          "output_type": "stream",
          "text": [
            " 78%|███████▊  | 78/100 [04:44<01:19,  3.62s/it]"
          ]
        },
        {
          "name": "stdout",
          "output_type": "stream",
          "text": [
            "Loss: 3855.7616619911923\n"
          ]
        },
        {
          "name": "stderr",
          "output_type": "stream",
          "text": [
            " 79%|███████▉  | 79/100 [04:47<01:15,  3.62s/it]"
          ]
        },
        {
          "name": "stdout",
          "output_type": "stream",
          "text": [
            "Loss: 3855.7386552361168\n"
          ]
        },
        {
          "name": "stderr",
          "output_type": "stream",
          "text": [
            " 80%|████████  | 80/100 [04:51<01:12,  3.62s/it]"
          ]
        },
        {
          "name": "stdout",
          "output_type": "stream",
          "text": [
            "Loss: 3858.938501443073\n"
          ]
        },
        {
          "name": "stderr",
          "output_type": "stream",
          "text": [
            " 81%|████████  | 81/100 [04:55<01:08,  3.63s/it]"
          ]
        },
        {
          "name": "stdout",
          "output_type": "stream",
          "text": [
            "Loss: 3854.9391182091586\n"
          ]
        },
        {
          "name": "stderr",
          "output_type": "stream",
          "text": [
            " 82%|████████▏ | 82/100 [04:58<01:05,  3.63s/it]"
          ]
        },
        {
          "name": "stdout",
          "output_type": "stream",
          "text": [
            "Loss: 3853.6858889828823\n"
          ]
        },
        {
          "name": "stderr",
          "output_type": "stream",
          "text": [
            " 83%|████████▎ | 83/100 [05:02<01:01,  3.62s/it]"
          ]
        },
        {
          "name": "stdout",
          "output_type": "stream",
          "text": [
            "Loss: 3852.4931181889433\n"
          ]
        },
        {
          "name": "stderr",
          "output_type": "stream",
          "text": [
            " 84%|████████▍ | 84/100 [05:06<00:58,  3.66s/it]"
          ]
        },
        {
          "name": "stdout",
          "output_type": "stream",
          "text": [
            "Loss: 3853.5211531523687\n"
          ]
        },
        {
          "name": "stderr",
          "output_type": "stream",
          "text": [
            " 85%|████████▌ | 85/100 [05:09<00:54,  3.63s/it]"
          ]
        },
        {
          "name": "stdout",
          "output_type": "stream",
          "text": [
            "Loss: 3859.3668341181083\n"
          ]
        },
        {
          "name": "stderr",
          "output_type": "stream",
          "text": [
            " 86%|████████▌ | 86/100 [05:13<00:50,  3.61s/it]"
          ]
        },
        {
          "name": "stdout",
          "output_type": "stream",
          "text": [
            "Loss: 3850.18990408539\n"
          ]
        },
        {
          "name": "stderr",
          "output_type": "stream",
          "text": [
            " 87%|████████▋ | 87/100 [05:16<00:46,  3.58s/it]"
          ]
        },
        {
          "name": "stdout",
          "output_type": "stream",
          "text": [
            "Loss: 3847.408203513759\n"
          ]
        },
        {
          "name": "stderr",
          "output_type": "stream",
          "text": [
            " 88%|████████▊ | 88/100 [05:20<00:42,  3.56s/it]"
          ]
        },
        {
          "name": "stdout",
          "output_type": "stream",
          "text": [
            "Loss: 3849.822354650801\n"
          ]
        },
        {
          "name": "stderr",
          "output_type": "stream",
          "text": [
            " 89%|████████▉ | 89/100 [05:23<00:39,  3.55s/it]"
          ]
        },
        {
          "name": "stdout",
          "output_type": "stream",
          "text": [
            "Loss: 3853.4399709519307\n"
          ]
        },
        {
          "name": "stderr",
          "output_type": "stream",
          "text": [
            " 90%|█████████ | 90/100 [05:27<00:35,  3.54s/it]"
          ]
        },
        {
          "name": "stdout",
          "output_type": "stream",
          "text": [
            "Loss: 3855.1065009050308\n"
          ]
        },
        {
          "name": "stderr",
          "output_type": "stream",
          "text": [
            " 91%|█████████ | 91/100 [05:30<00:31,  3.54s/it]"
          ]
        },
        {
          "name": "stdout",
          "output_type": "stream",
          "text": [
            "Loss: 3846.004562863878\n"
          ]
        },
        {
          "name": "stderr",
          "output_type": "stream",
          "text": [
            " 92%|█████████▏| 92/100 [05:34<00:28,  3.54s/it]"
          ]
        },
        {
          "name": "stdout",
          "output_type": "stream",
          "text": [
            "Loss: 3847.6790755934016\n"
          ]
        },
        {
          "name": "stderr",
          "output_type": "stream",
          "text": [
            " 93%|█████████▎| 93/100 [05:37<00:24,  3.55s/it]"
          ]
        },
        {
          "name": "stdout",
          "output_type": "stream",
          "text": [
            "Loss: 3848.4627561144007\n"
          ]
        },
        {
          "name": "stderr",
          "output_type": "stream",
          "text": [
            " 94%|█████████▍| 94/100 [05:41<00:21,  3.55s/it]"
          ]
        },
        {
          "name": "stdout",
          "output_type": "stream",
          "text": [
            "Loss: 3845.882603347681\n"
          ]
        },
        {
          "name": "stderr",
          "output_type": "stream",
          "text": [
            " 95%|█████████▌| 95/100 [05:45<00:17,  3.55s/it]"
          ]
        },
        {
          "name": "stdout",
          "output_type": "stream",
          "text": [
            "Loss: 3844.054030497363\n"
          ]
        },
        {
          "name": "stderr",
          "output_type": "stream",
          "text": [
            " 96%|█████████▌| 96/100 [05:48<00:14,  3.55s/it]"
          ]
        },
        {
          "name": "stdout",
          "output_type": "stream",
          "text": [
            "Loss: 3844.8183368269806\n"
          ]
        },
        {
          "name": "stderr",
          "output_type": "stream",
          "text": [
            " 97%|█████████▋| 97/100 [05:52<00:10,  3.55s/it]"
          ]
        },
        {
          "name": "stdout",
          "output_type": "stream",
          "text": [
            "Loss: 3846.384594571059\n"
          ]
        },
        {
          "name": "stderr",
          "output_type": "stream",
          "text": [
            " 98%|█████████▊| 98/100 [05:55<00:07,  3.56s/it]"
          ]
        },
        {
          "name": "stdout",
          "output_type": "stream",
          "text": [
            "Loss: 3844.3760605344346\n"
          ]
        },
        {
          "name": "stderr",
          "output_type": "stream",
          "text": [
            " 99%|█████████▉| 99/100 [05:59<00:03,  3.56s/it]"
          ]
        },
        {
          "name": "stdout",
          "output_type": "stream",
          "text": [
            "Loss: 3845.0841064453125\n"
          ]
        },
        {
          "name": "stderr",
          "output_type": "stream",
          "text": [
            "100%|██████████| 100/100 [06:03<00:00,  3.63s/it]"
          ]
        },
        {
          "name": "stdout",
          "output_type": "stream",
          "text": [
            "Loss: 3844.3454523754726\n",
            "Model saved to autoencoder_model.pth\n"
          ]
        },
        {
          "name": "stderr",
          "output_type": "stream",
          "text": [
            "\n"
          ]
        }
      ],
      "source": [
        "# 모델 초기화\n",
        "model = Autoencoder()\n",
        "optimizer = optim.Adam(model.parameters(), lr=1e-3)\n",
        "\n",
        "# 모델을 GPU로 이동\n",
        "model = model.to(device)\n",
        "\n",
        "# 경계 마스크 생성\n",
        "boundary_mask = create_boundary_mask((256, 256)).to(device)\n",
        "\n",
        "# 학습 루프\n",
        "num_epochs = 100\n",
        "for epoch in tqdm(range(num_epochs)):\n",
        "    model.train()\n",
        "    train_loss = 0\n",
        "    for data in train_loader:\n",
        "        inputs = data\n",
        "        inputs = inputs.to(device)\n",
        "        optimizer.zero_grad()\n",
        "        u_pred, _ = model(inputs)\n",
        "        loss = unsupervised_loss(u_pred, inputs, h, boundary_mask)\n",
        "        loss.backward()\n",
        "        optimizer.step()\n",
        "        train_loss += loss.item()\n",
        "\n",
        "    train_loss /= len(train_loader)\n",
        "    print(f'Loss: {train_loss}')\n",
        "\n",
        "# 모델 저장\n",
        "torch.save(model.state_dict(), 'autoencoder_model.pth')\n",
        "print(\"Model saved to autoencoder_model.pth\")\n"
      ]
    },
    {
      "cell_type": "code",
      "execution_count": 64,
      "id": "uii_WP9jhjkt",
      "metadata": {
        "id": "uii_WP9jhjkt"
      },
      "outputs": [
        {
          "data": {
            "text/plain": [
              "Autoencoder(\n",
              "  (encoder): Sequential(\n",
              "    (0): Conv2d(1, 32, kernel_size=(4, 4), stride=(2, 2), padding=(1, 1))\n",
              "    (1): BatchNorm2d(32, eps=1e-05, momentum=0.1, affine=True, track_running_stats=True)\n",
              "    (2): ReLU()\n",
              "    (3): Conv2d(32, 64, kernel_size=(4, 4), stride=(2, 2), padding=(1, 1))\n",
              "    (4): BatchNorm2d(64, eps=1e-05, momentum=0.1, affine=True, track_running_stats=True)\n",
              "    (5): ReLU()\n",
              "    (6): Conv2d(64, 128, kernel_size=(4, 4), stride=(2, 2), padding=(1, 1))\n",
              "    (7): BatchNorm2d(128, eps=1e-05, momentum=0.1, affine=True, track_running_stats=True)\n",
              "    (8): ReLU()\n",
              "    (9): Flatten(start_dim=1, end_dim=-1)\n",
              "    (10): Linear(in_features=131072, out_features=128, bias=True)\n",
              "    (11): ReLU()\n",
              "  )\n",
              "  (fc): Linear(in_features=128, out_features=128, bias=True)\n",
              "  (decoder): Sequential(\n",
              "    (0): Linear(in_features=128, out_features=131072, bias=True)\n",
              "    (1): ReLU()\n",
              "    (2): Unflatten(dim=1, unflattened_size=(128, 32, 32))\n",
              "    (3): ConvTranspose2d(128, 64, kernel_size=(4, 4), stride=(2, 2), padding=(1, 1))\n",
              "    (4): BatchNorm2d(64, eps=1e-05, momentum=0.1, affine=True, track_running_stats=True)\n",
              "    (5): ReLU()\n",
              "    (6): ConvTranspose2d(64, 32, kernel_size=(4, 4), stride=(2, 2), padding=(1, 1))\n",
              "    (7): BatchNorm2d(32, eps=1e-05, momentum=0.1, affine=True, track_running_stats=True)\n",
              "    (8): ReLU()\n",
              "    (9): ConvTranspose2d(32, 1, kernel_size=(4, 4), stride=(2, 2), padding=(1, 1))\n",
              "    (10): Sigmoid()\n",
              "  )\n",
              ")"
            ]
          },
          "execution_count": 64,
          "metadata": {},
          "output_type": "execute_result"
        }
      ],
      "source": [
        "# 모델 로드\n",
        "model.load_state_dict(torch.load('autoencoder_model.pth'))\n",
        "model.eval()"
      ]
    },
    {
      "cell_type": "code",
      "execution_count": 103,
      "id": "5a277c07",
      "metadata": {},
      "outputs": [
        {
          "data": {
            "text/plain": [
              "array([[0., 0., 0., ..., 0., 0., 0.],\n",
              "       [0., 2., 2., ..., 2., 2., 0.],\n",
              "       [0., 2., 2., ..., 2., 2., 0.],\n",
              "       ...,\n",
              "       [0., 2., 2., ..., 2., 2., 0.],\n",
              "       [0., 2., 2., ..., 2., 2., 0.],\n",
              "       [0., 0., 0., ..., 0., 0., 0.]])"
            ]
          },
          "execution_count": 103,
          "metadata": {},
          "output_type": "execute_result"
        }
      ],
      "source": [
        "f_matrices[2501]"
      ]
    },
    {
      "cell_type": "code",
      "execution_count": 104,
      "id": "2fd151ae",
      "metadata": {},
      "outputs": [],
      "source": [
        "f_tensor = torch.tensor(f_matrices[2501]).unsqueeze(0).unsqueeze(0).float().to(device)\n",
        "\n",
        "with torch.no_grad():\n",
        "    predicted_u, _ = model(f_tensor)\n",
        "    \n",
        "predicted_u = predicted_u.squeeze().cpu().numpy()"
      ]
    },
    {
      "cell_type": "code",
      "execution_count": 105,
      "id": "4acc1b9e",
      "metadata": {},
      "outputs": [],
      "source": [
        "f = lambda x: np.full(x.shape[0], 2)\n",
        "u_D = lambda x: x[:,0] * 0\n",
        "c4n, n4e, n4db, ind4e = mesh_fem_2d_rec(a, b, a, b, M, M, k)\n",
        "M_R, Srr_R, Sss_R, Dr_R, Ds_R = get_matrices_2d(k)\n",
        "\n",
        "fem_u = fem_poisson_solver(c4n, n4e, n4db, ind4e, k, M_R, Srr_R, Sss_R, f, u_D)\n",
        "fem_u_reshaped = fem_u.reshape((256, 256))"
      ]
    },
    {
      "cell_type": "code",
      "execution_count": 106,
      "id": "0b246c49",
      "metadata": {},
      "outputs": [
        {
          "name": "stdout",
          "output_type": "stream",
          "text": [
            "Mean Squared Error: 0.002967455754253757\n",
            "\n",
            "dl_u: \n",
            "[[3.58398049e-03 1.38105941e-03 1.33443018e-03 ... 1.26074569e-03\n",
            "  7.04965671e-04 3.78206768e-03]\n",
            " [9.88246175e-04 9.44152489e-05 9.14974007e-05 ... 1.43364538e-04\n",
            "  1.68339306e-04 1.12734840e-03]\n",
            " [5.81626082e-04 1.86506877e-04 8.25816969e-05 ... 4.30499167e-05\n",
            "  6.09150193e-05 1.36081723e-03]\n",
            " ...\n",
            " [1.40330801e-03 1.19814431e-04 7.62512427e-05 ... 6.65967673e-05\n",
            "  7.61067568e-05 1.23692374e-03]\n",
            " [5.56100276e-04 1.21530764e-04 8.67212366e-05 ... 9.96412346e-05\n",
            "  1.42254867e-04 2.21450720e-03]\n",
            " [5.68535412e-03 1.12671126e-03 9.41720151e-04 ... 1.52245129e-03\n",
            "  6.59241050e-04 3.41308047e-03]]\n",
            "\n",
            "fem_u: \n",
            "[[0.         0.         0.         ... 0.         0.         0.        ]\n",
            " [0.         0.0001046  0.00019172 ... 0.00019172 0.0001046  0.        ]\n",
            " [0.         0.00019172 0.00036105 ... 0.00036105 0.00019172 0.        ]\n",
            " ...\n",
            " [0.         0.00019172 0.00036105 ... 0.00036105 0.00019172 0.        ]\n",
            " [0.         0.0001046  0.00019172 ... 0.00019172 0.0001046  0.        ]\n",
            " [0.         0.         0.         ... 0.         0.         0.        ]]\n",
            "\n"
          ]
        }
      ],
      "source": [
        "# MSE 계산 및 시각화\n",
        "mse = np.mean((predicted_u - fem_u_reshaped) ** 2)\n",
        "print(f'Mean Squared Error: {mse}\\n')\n",
        "print(f'dl_u: \\n{predicted_u}\\n')\n",
        "print(f'fem_u: \\n{fem_u_reshaped}\\n')"
      ]
    },
    {
      "cell_type": "code",
      "execution_count": 107,
      "id": "e1M4lBho0IZH",
      "metadata": {
        "colab": {
          "base_uri": "https://localhost:8080/",
          "height": 514
        },
        "id": "e1M4lBho0IZH",
        "outputId": "0bbe3d55-9faa-4a4a-dd26-b2a51dc0c360"
      },
      "outputs": [
        {
          "data": {
            "image/png": "[encoded data removed]",
            "text/plain": [
              "<Figure size 1200x600 with 4 Axes>"
            ]
          },
          "metadata": {},
          "output_type": "display_data"
        }
      ],
      "source": [
        "plt.figure(figsize=(12, 6))\n",
        "plt.subplot(1, 2, 1)\n",
        "plt.title(\"Predicted u\")\n",
        "plt.imshow(predicted_u, cmap='viridis', extent=(0, 1, 0, 1))\n",
        "plt.colorbar()\n",
        "\n",
        "plt.subplot(1, 2, 2)\n",
        "plt.title(\"FEM u\")\n",
        "plt.imshow(fem_u.reshape((256, 256)), cmap='viridis', extent=(0, 1, 0, 1))\n",
        "plt.colorbar()\n",
        "\n",
        "plt.show()"
      ]
    },
    {
      "cell_type": "code",
      "execution_count": null,
      "id": "5mTvNp5f9o4N",
      "metadata": {
        "id": "5mTvNp5f9o4N"
      },
      "outputs": [],
      "source": [
        "constant_value = -2\n",
        "new_f = np.full((256, 256), constant_value)\n",
        "new_f = apply_boundary_conditions(new_f)\n",
        "print(f'Input new_f:\\n {new_f}\\n')\n",
        "\n",
        "f_tensor = torch.tensor(new_f).unsqueeze(0).unsqueeze(0).float().to(device)\n",
        "\n",
        "with torch.no_grad():\n",
        "    predicted_u, _ = model(f_tensor)\n",
        "\n",
        "predicted_u = predicted_u.squeeze().cpu().numpy()\n",
        "\n",
        "f = lambda x: np.full(x.shape[0], constant_value)\n",
        "u_D = lambda x: x[:,0] * 0\n",
        "\n",
        "c4n, n4e, n4db, ind4e = mesh_fem_2d_rec(a, b, a, b, M, M, k)\n",
        "M_R, Srr_R, Sss_R, Dr_R, Ds_R = get_matrices_2d(k)\n",
        "\n",
        "fem_u = fem_poisson_solver(c4n, n4e, n4db, ind4e, k, M_R, Srr_R, Sss_R, f, u_D)\n",
        "fem_u_reshaped = fem_u.reshape((256, 256))\n",
        "\n",
        "mse = np.mean((predicted_u - fem_u_reshaped) ** 2)\n",
        "print(f'Mean Squared Error: {mse}\\n')\n",
        "print(f'Predicted u: \\n{predicted_u}\\n')\n",
        "print(f'FEM u: \\n{fem_u_reshaped}\\n')\n",
        "\n",
        "plt.figure(figsize=(12, 6))\n",
        "plt.subplot(1, 2, 1)\n",
        "plt.title(\"Predicted u\")\n",
        "plt.imshow(predicted_u, cmap='viridis', extent=(0, 1, 0, 1))\n",
        "plt.colorbar()\n",
        "\n",
        "plt.subplot(1, 2, 2)\n",
        "plt.title(\"FEM u\")\n",
        "plt.imshow(fem_u.reshape((256, 256)), cmap='viridis', extent=(0, 1, 0, 1))\n",
        "plt.colorbar()\n",
        "\n",
        "plt.show()"
      ]
    }
  ],
  "metadata": {
    "accelerator": "GPU",
    "colab": {
      "gpuType": "T4",
      "provenance": []
    },
    "kernelspec": {
      "display_name": "Python 3",
      "name": "python3"
    },
    "language_info": {
      "codemirror_mode": {
        "name": "ipython",
        "version": 3
      },
      "file_extension": ".py",
      "mimetype": "text/x-python",
      "name": "python",
      "nbconvert_exporter": "python",
      "pygments_lexer": "ipython3",
      "version": "3.12.2"
    },
    "toc": {
      "base_numbering": 1,
      "nav_menu": {},
      "number_sections": true,
      "sideBar": true,
      "skip_h1_title": false,
      "title_cell": "Table of Contents",
      "title_sidebar": "Contents",
      "toc_cell": false,
      "toc_position": {},
      "toc_section_display": true,
      "toc_window_display": false
    },
    "varInspector": {
      "cols": {
        "lenName": 16,
        "lenType": 16,
        "lenVar": 40
      },
      "kernels_config": {
        "python": {
          "delete_cmd_postfix": "",
          "delete_cmd_prefix": "del ",
          "library": "var_list.py",
          "varRefreshCmd": "print(var_dic_list())"
        },
        "r": {
          "delete_cmd_postfix": ") ",
          "delete_cmd_prefix": "rm(",
          "library": "var_list.r",
          "varRefreshCmd": "cat(var_dic_list()) "
        }
      },
      "types_to_exclude": [
        "module",
        "function",
        "builtin_function_or_method",
        "instance",
        "_Feature"
      ],
      "window_display": false
    }
  },
  "nbformat": 4,
  "nbformat_minor": 5
}
