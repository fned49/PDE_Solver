{
  "cells": [
    {
      "cell_type": "code",
      "execution_count": 127,
      "id": "5d4b7145",
      "metadata": {
        "id": "5d4b7145"
      },
      "outputs": [],
      "source": [
        "import numpy as np\n",
        "import torch\n",
        "import torch.nn as nn\n",
        "import torch.optim as optim\n",
        "from torch.utils.data import DataLoader, Dataset\n",
        "import matplotlib.pyplot as plt\n",
        "from thirdpary import fem_2d_rec"
      ]
    },
    {
      "cell_type": "code",
      "execution_count": 128,
      "id": "1665db88",
      "metadata": {},
      "outputs": [
        {
          "name": "stdout",
          "output_type": "stream",
          "text": [
            "Using device: cuda\n"
          ]
        }
      ],
      "source": [
        "device = torch.device('cuda' if torch.cuda.is_available() else 'cpu')\n",
        "print(f\"Using device: {device}\")"
      ]
    },
    {
      "cell_type": "code",
      "execution_count": 129,
      "id": "c33883c2",
      "metadata": {
        "colab": {
          "base_uri": "https://localhost:8080/"
        },
        "id": "c33883c2",
        "outputId": "c299f4db-f1f4-4015-ce96-52ac6ab8ac22"
      },
      "outputs": [
        {
          "name": "stdout",
          "output_type": "stream",
          "text": [
            "Create f_constant.txt.\n"
          ]
        }
      ],
      "source": [
        "f_values = np.arange(-5000, 5000, 2)\n",
        "np.savetxt('./f_constant.txt', f_values, fmt='%f')\n",
        "print(\"Create f_constant.txt.\")"
      ]
    },
    {
      "cell_type": "code",
      "execution_count": 130,
      "id": "ucIGTEAWaRwJ",
      "metadata": {
        "colab": {
          "base_uri": "https://localhost:8080/"
        },
        "id": "ucIGTEAWaRwJ",
        "outputId": "4e742633-316a-487b-da15-4944be12d145"
      },
      "outputs": [
        {
          "name": "stdout",
          "output_type": "stream",
          "text": [
            "Loaded 5000 f values.\n"
          ]
        }
      ],
      "source": [
        "f_values = np.loadtxt('./f_constant.txt')\n",
        "print(f\"Loaded {len(f_values)} f values.\")"
      ]
    },
    {
      "cell_type": "code",
      "execution_count": 131,
      "id": "ac673ab0",
      "metadata": {},
      "outputs": [],
      "source": [
        "def apply_boundary_conditions(f_matrix, g=0):\n",
        "    f = f_matrix.copy()\n",
        "    f[:, 0] = g  # 왼쪽 경계\n",
        "    f[:, -1] = g  # 오른쪽 경계\n",
        "    f[0, :] = g  # 아래쪽 경계\n",
        "    f[-1, :] = g  # 위쪽 경계\n",
        "    return f"
      ]
    },
    {
      "cell_type": "code",
      "execution_count": 132,
      "id": "491e05af",
      "metadata": {
        "colab": {
          "base_uri": "https://localhost:8080/"
        },
        "id": "491e05af",
        "outputId": "d7f4def2-69c1-42fc-917b-262dfd82eb87"
      },
      "outputs": [
        {
          "name": "stdout",
          "output_type": "stream",
          "text": [
            "5000 f matrices with boundary conditions.\n"
          ]
        }
      ],
      "source": [
        "# 256x256 크기의 f 행렬 생성 및 경계 값 0으로 설정\n",
        "input_shape = (256, 256)\n",
        "f_matrices = []\n",
        "for f_value in f_values:\n",
        "    f_matrix = np.full(input_shape, f_value)\n",
        "    f_matrix_with_boundary = apply_boundary_conditions(f_matrix)\n",
        "    f_matrices.append(f_matrix_with_boundary)\n",
        "\n",
        "f_matrices = np.array(f_matrices)\n",
        "print(f\"{len(f_matrices)} f matrices with boundary conditions.\")"
      ]
    },
    {
      "cell_type": "code",
      "execution_count": 133,
      "id": "50H2ZmhoadtV",
      "metadata": {
        "colab": {
          "base_uri": "https://localhost:8080/"
        },
        "id": "50H2ZmhoadtV",
        "outputId": "de019afe-7833-4acf-baca-bd430569a1f9"
      },
      "outputs": [
        {
          "data": {
            "text/plain": [
              "(5000, 256, 256)"
            ]
          },
          "execution_count": 133,
          "metadata": {},
          "output_type": "execute_result"
        }
      ],
      "source": [
        "f_matrices.shape"
      ]
    },
    {
      "cell_type": "code",
      "execution_count": 134,
      "id": "x2zqBW6mRr4J",
      "metadata": {
        "colab": {
          "base_uri": "https://localhost:8080/"
        },
        "id": "x2zqBW6mRr4J",
        "outputId": "18e228ab-b05b-465a-837e-188821298c37"
      },
      "outputs": [
        {
          "data": {
            "text/plain": [
              "array([[    0.,     0.,     0., ...,     0.,     0.,     0.],\n",
              "       [    0., -4994., -4994., ..., -4994., -4994.,     0.],\n",
              "       [    0., -4994., -4994., ..., -4994., -4994.,     0.],\n",
              "       ...,\n",
              "       [    0., -4994., -4994., ..., -4994., -4994.,     0.],\n",
              "       [    0., -4994., -4994., ..., -4994., -4994.,     0.],\n",
              "       [    0.,     0.,     0., ...,     0.,     0.,     0.]])"
            ]
          },
          "execution_count": 134,
          "metadata": {},
          "output_type": "execute_result"
        }
      ],
      "source": [
        "f_matrices[3]"
      ]
    },
    {
      "cell_type": "code",
      "execution_count": 135,
      "id": "9fc53484",
      "metadata": {
        "id": "9fc53484"
      },
      "outputs": [],
      "source": [
        "class PoissonDataset(Dataset):\n",
        "    def __init__(self, f_matrices):\n",
        "        self.f_matrices = f_matrices\n",
        "\n",
        "    def __len__(self):\n",
        "        return len(self.f_matrices)\n",
        "\n",
        "    def __getitem__(self, idx):\n",
        "        f_matrix = self.f_matrices[idx]\n",
        "        f_tensor = torch.tensor(f_matrix).unsqueeze(0).float()  # (1, H, W) 형태로 변환\n",
        "        return f_tensor"
      ]
    },
    {
      "cell_type": "code",
      "execution_count": 136,
      "id": "45df9791",
      "metadata": {
        "id": "45df9791"
      },
      "outputs": [],
      "source": [
        "dataset = PoissonDataset(f_matrices)\n",
        "train_loader = DataLoader(dataset, batch_size=32, shuffle=True)"
      ]
    },
    {
      "cell_type": "code",
      "execution_count": 137,
      "id": "a1b214ff",
      "metadata": {
        "id": "a1b214ff"
      },
      "outputs": [],
      "source": [
        "def create_boundary_mask(size):\n",
        "    mask = torch.ones(size, dtype=torch.float32)\n",
        "    mask[:, 0] = 0  # 왼쪽 경계\n",
        "    mask[:, -1] = 0  # 오른쪽 경계\n",
        "    mask[0, :] = 0  # 아래쪽 경계\n",
        "    mask[-1, :] = 0  # 위쪽 경계\n",
        "    return mask.unsqueeze(0).unsqueeze(0)  # (1, 1, H, W) 형태로 변환\n",
        "\n",
        "# 경계 마스크 생성\n",
        "boundary_mask = create_boundary_mask((256, 256)).to(device)"
      ]
    },
    {
      "cell_type": "code",
      "execution_count": 138,
      "id": "ab86afe6",
      "metadata": {},
      "outputs": [
        {
          "data": {
            "text/plain": [
              "(tensor([[[[0., 0., 0.,  ..., 0., 0., 0.],\n",
              "           [0., 1., 1.,  ..., 1., 1., 0.],\n",
              "           [0., 1., 1.,  ..., 1., 1., 0.],\n",
              "           ...,\n",
              "           [0., 1., 1.,  ..., 1., 1., 0.],\n",
              "           [0., 1., 1.,  ..., 1., 1., 0.],\n",
              "           [0., 0., 0.,  ..., 0., 0., 0.]]]], device='cuda:0'),\n",
              " tensor([[[[1., 1., 1.,  ..., 1., 1., 1.],\n",
              "           [1., 0., 0.,  ..., 0., 0., 1.],\n",
              "           [1., 0., 0.,  ..., 0., 0., 1.],\n",
              "           ...,\n",
              "           [1., 0., 0.,  ..., 0., 0., 1.],\n",
              "           [1., 0., 0.,  ..., 0., 0., 1.],\n",
              "           [1., 1., 1.,  ..., 1., 1., 1.]]]], device='cuda:0'))"
            ]
          },
          "execution_count": 138,
          "metadata": {},
          "output_type": "execute_result"
        }
      ],
      "source": [
        "boundary_mask, 1-boundary_mask"
      ]
    },
    {
      "cell_type": "code",
      "execution_count": 139,
      "id": "c4bcb08a",
      "metadata": {
        "id": "c4bcb08a"
      },
      "outputs": [],
      "source": [
        "def unsupervised_loss(u_pred, f, h, boundary_mask):\n",
        "    laplacian_filter = torch.tensor([[0, -1, 0], [-1, 4, -1], [0, -1, 0]], dtype=torch.float32).unsqueeze(0).unsqueeze(0).to(u_pred.device) # (1, 1, H, W) 형태로 변환 / 마이너스 라플라시안 필터\n",
        "    laplacian_u = torch.nn.functional.conv2d(u_pred, laplacian_filter, padding=1)\n",
        "\n",
        "    # 내부 손실 계산 (경계를 제외한 부분)\n",
        "    interior_loss = torch.sum(((f*h**2 - laplacian_u) ** 2) * boundary_mask)\n",
        "\n",
        "    # 경계 손실 계산 (경계에서의 값이 0이 되도록)\n",
        "    boundary_loss = torch.sum(((u_pred)* (1 - boundary_mask)) ** 2)\n",
        "\n",
        "    return interior_loss + boundary_loss"
      ]
    },
    {
      "cell_type": "code",
      "execution_count": 140,
      "id": "23af1c71",
      "metadata": {
        "id": "23af1c71"
      },
      "outputs": [],
      "source": [
        "class Autoencoder(nn.Module):\n",
        "    def __init__(self, rep_dim=128):\n",
        "        super(Autoencoder, self).__init__()\n",
        "\n",
        "        # Encoder\n",
        "        self.encoder = nn.Sequential(\n",
        "            nn.Conv2d(1, 32, kernel_size=4, stride=2, padding=1),\n",
        "            nn.BatchNorm2d(32),\n",
        "            nn.ReLU(),\n",
        "            nn.Conv2d(32, 64, kernel_size=4, stride=2, padding=1),\n",
        "            nn.BatchNorm2d(64),\n",
        "            nn.ReLU(),\n",
        "            nn.Conv2d(64, 128, kernel_size=4, stride=2, padding=1),\n",
        "            nn.BatchNorm2d(128),\n",
        "            nn.ReLU(),\n",
        "            nn.Flatten(),\n",
        "            nn.Linear(128 * 32 * 32, rep_dim),\n",
        "            nn.ReLU()\n",
        "        )\n",
        "\n",
        "        # Latent space\n",
        "        self.fc = nn.Linear(rep_dim, rep_dim)\n",
        "\n",
        "        # Decoder\n",
        "        self.decoder = nn.Sequential(\n",
        "            nn.Linear(rep_dim, 128 * 32 * 32),\n",
        "            nn.ReLU(),\n",
        "            nn.Unflatten(1, (128, 32, 32)),\n",
        "            nn.ConvTranspose2d(128, 64, kernel_size=4, stride=2, padding=1),\n",
        "            nn.BatchNorm2d(64),\n",
        "            nn.ReLU(),\n",
        "            nn.ConvTranspose2d(64, 32, kernel_size=4, stride=2, padding=1),\n",
        "            nn.BatchNorm2d(32),\n",
        "            nn.ReLU(),\n",
        "            nn.ConvTranspose2d(32, 1, kernel_size=4, stride=2, padding=1),\n",
        "            nn.Sigmoid()\n",
        "        )\n",
        "\n",
        "    def forward(self, x):\n",
        "        encoded = self.encoder(x)\n",
        "        latent = self.fc(encoded)\n",
        "        u_pred = self.decoder(latent)\n",
        "        return u_pred, latent"
      ]
    },
    {
      "cell_type": "code",
      "execution_count": 141,
      "id": "MVtr7lcyceWz",
      "metadata": {
        "id": "MVtr7lcyceWz"
      },
      "outputs": [],
      "source": [
        "def mesh_fem_2d_rec(xl, xr, yl, yr, Mx, My, k):\n",
        "    xx = np.linspace(xl, xr, k*Mx+1)\n",
        "    yy = np.linspace(yl, yr, k*My+1)\n",
        "    c4n = np.array([[x, y] for y in yy for x in xx])\n",
        "\n",
        "    Nx = k*Mx+1\n",
        "    Ny = k*My+1\n",
        "    ind4e = np.array([[(j+k*m)*Nx+(i+k*n) for j in range(k+1) for i in range(k+1)] for m in range(My) for n in range(Mx)])\n",
        "    n4e = ind4e[:, [0, k, (k+1)**2-1, k*(k+1)]]\n",
        "\n",
        "    nNodes = Nx*Ny\n",
        "    n4db = np.array([[[k*i+j for j in range(k+1)] for i in range(Mx)],\n",
        "          [[k*Nx*(i) +k*Mx + j*Nx for j in range(k+1)] for i in range(My)],\n",
        "          [[(nNodes - 1) - k*i - j for j in range(k+1)] for i in range(Mx)],\n",
        "          [[Nx*(Ny-1) - k*Nx*i - j*Nx for j in range(k+1)] for i in range(My)]]).reshape(-1, k+1)\n",
        "    return (c4n, n4e, n4db, ind4e)\n",
        "\n",
        "def fem_poisson_solver(c4n, n4e, n4db, ind4e, k, M_R, Srr_R, Sss_R, f, u_D):\n",
        "    number_of_nodes = c4n.shape[0]\n",
        "    number_of_elements = n4e.shape[0]\n",
        "    b = np.zeros(number_of_nodes)\n",
        "    u = np.zeros(number_of_nodes)\n",
        "    xr = np.array([(c4n[n4e[i, 1], 0] - c4n[n4e[i, 0], 0]) / 2 for i in range(number_of_elements)])\n",
        "    ys = np.array([(c4n[n4e[i, 3], 1] - c4n[n4e[i, 0], 1]) / 2 for i in range(number_of_elements)])\n",
        "    J = xr * ys\n",
        "    rx = ys / J\n",
        "    sy = xr / J\n",
        "    Aloc = np.array([J[i] * (rx[i]**2 * Srr_R.flatten() + sy[i]**2 * Sss_R.flatten()) for i in range(number_of_elements)])\n",
        "    for i in range(number_of_elements):\n",
        "        b[ind4e[i]] += J[i] * np.matmul(M_R, f(c4n[ind4e[i]]))\n",
        "    row_ind = np.tile(ind4e.flatten(), ((k+1)**2, 1)).T.flatten()\n",
        "    col_ind = np.tile(ind4e, (1, (k+1)**2)).flatten()\n",
        "    A_COO = coo_matrix((Aloc.flatten(), (row_ind, col_ind)), shape=(number_of_nodes, number_of_nodes))\n",
        "    A = A_COO.tocsr()\n",
        "    dof = np.setdiff1d(range(0, number_of_nodes), np.unique(n4db))\n",
        "    u[dof] = spsolve(A[dof, :].tocsc()[:, dof].tocsr(), b[dof])\n",
        "    return u\n",
        "\n",
        "def get_matrices_2d(k=1):\n",
        "    r = np.linspace(-1, 1, k+1)\n",
        "    V = VandermondeM1D(k, r)\n",
        "    D_R_1d = Dmatrix1D(k, r, V)\n",
        "    invV = np.linalg.solve(V, np.identity(k+1))\n",
        "\n",
        "    M_R_1d = invV.T @ invV\n",
        "    M_R = np.kron(M_R_1d, M_R_1d)\n",
        "\n",
        "    Dr_R = np.kron(np.identity(k+1), D_R_1d)\n",
        "    Ds_R = np.kron(D_R_1d, np.identity(k+1))\n",
        "\n",
        "    Srr_R = Dr_R.T @ M_R @ Dr_R\n",
        "    Sss_R = Ds_R.T @ M_R @ Ds_R\n",
        "    return (M_R, Srr_R, Sss_R, Dr_R, Ds_R)\n",
        "\n",
        "def nJacobiP(x, alpha=0, beta=0, degree=0):\n",
        "    Pn = np.zeros((degree+1, x.size), float)\n",
        "    Pn[0, :] = np.sqrt(2.0 ** (-alpha - beta - 1) \\\n",
        "                       * math.gamma(alpha + beta + 2) \\\n",
        "                       / ((math.gamma(alpha + 1) * math.gamma(beta + 1))))\n",
        "\n",
        "    if degree == 0:\n",
        "        P = Pn\n",
        "    else:\n",
        "        Pn[1, :] = np.multiply(Pn[0, :] * np.sqrt((alpha + beta + 3.0) \\\n",
        "            / ((alpha + 1) * (beta + 1))), ((alpha + beta + 2) * x + (alpha - beta))) / 2\n",
        "        a_n = 2.0 / (2 + alpha + beta) * np.sqrt((alpha + 1.0) * (beta + 1.0) \\\n",
        "                                                / (alpha + beta + 3.0))\n",
        "        for n in range(2, degree + 1):\n",
        "            anew = 2.0 / (2 * n + alpha + beta) * np.sqrt(n * (n + alpha + beta) \\\n",
        "                                                          * (n + alpha) * (n + beta) \\\n",
        "                                                          / ((2 * n + alpha + beta - 1.0) * (2 * n + alpha + beta + 1.0)))\n",
        "            b_n = -(alpha ** 2 - beta ** 2) \\\n",
        "                / ((2 * (n - 1) + alpha + beta) * (2 * (n - 1) + alpha + beta + 2.0))\n",
        "            Pn[n, :] = (np.multiply((x - b_n), Pn[n - 1, :]) - a_n * Pn[n - 2, :]) \\\n",
        "                       / anew\n",
        "            a_n = anew\n",
        "\n",
        "    P = Pn[degree, :]\n",
        "    return P\n",
        "\n",
        "def VandermondeM1D(degree, r):\n",
        "    V1D = np.zeros((r.size, degree + 1), float)\n",
        "    for j in range(0, degree + 1):\n",
        "        V1D[:, j] = nJacobiP(r, 0, 0, j)\n",
        "    return V1D\n",
        "\n",
        "def DnJacobiP(x, alpha=0, beta=0, degree=0):\n",
        "    dP = np.zeros(x.size, float)\n",
        "    if degree == 0:\n",
        "        dP[:] = 0\n",
        "    else:\n",
        "        dP[:] = np.sqrt(degree * (degree + alpha + beta + 1.0)) \\\n",
        "                * nJacobiP(x, alpha + 1, beta + 1, degree - 1)\n",
        "    return dP\n",
        "\n",
        "def Dmatrix1D(degree, r, V):\n",
        "    Vr = DVandermondeM1D(degree, r)\n",
        "    Dr = np.linalg.solve(np.transpose(V), np.transpose(Vr))\n",
        "    Dr = np.transpose(Dr)\n",
        "    return Dr\n",
        "\n",
        "def DVandermondeM1D(degree, r):\n",
        "    DVr = np.zeros((r.size, degree + 1), float)\n",
        "    for j in range(0, degree + 1):\n",
        "        DVr[:, j] = DnJacobiP(r, 0, 0, j)\n",
        "    return DVr"
      ]
    },
    {
      "cell_type": "code",
      "execution_count": 142,
      "id": "Rnz55xdRvUOJ",
      "metadata": {
        "id": "Rnz55xdRvUOJ"
      },
      "outputs": [],
      "source": [
        "a = 0\n",
        "b = 1\n",
        "k = 1\n",
        "M = 255\n",
        "h = 1 / M\n",
        "f = lambda c: np.full(c.shape[0], 2)\n",
        "u_D = lambda c: np.zeros(c.shape[0])\n",
        "\n",
        "c4n, n4e, n4db, ind4e = mesh_fem_2d_rec(a, b, a, b, M, M, k)\n",
        "M_R, Srr_R, Sss_R, Dr_R, Ds_R = get_matrices_2d(k)\n",
        "\n",
        "fem_u = fem_poisson_solver(c4n, n4e, n4db, ind4e, k, M_R, Srr_R, Sss_R, f, u_D)\n",
        "fem_u_reshaped = fem_u.reshape((256, 256))"
      ]
    },
    {
      "cell_type": "code",
      "execution_count": 143,
      "id": "225c692e",
      "metadata": {},
      "outputs": [
        {
          "name": "stdout",
          "output_type": "stream",
          "text": [
            "Epoch [1/100], Loss: 72269.5004\n",
            "Epoch [2/100], Loss: 10822.3001\n",
            "Epoch [3/100], Loss: 9649.3222\n",
            "Epoch [4/100], Loss: 8668.8061\n",
            "Epoch [5/100], Loss: 7820.0318\n",
            "Epoch [6/100], Loss: 7067.1709\n",
            "Epoch [7/100], Loss: 6376.1094\n",
            "Epoch [8/100], Loss: 5676.5584\n",
            "Epoch [9/100], Loss: 5210.4588\n",
            "Epoch [10/100], Loss: 4933.9962\n",
            "Epoch [11/100], Loss: 4738.4743\n",
            "Epoch [12/100], Loss: 4493.4375\n",
            "Epoch [13/100], Loss: 4473.4778\n",
            "Epoch [14/100], Loss: 4359.8361\n",
            "Epoch [15/100], Loss: 4283.5211\n",
            "Epoch [16/100], Loss: 4258.7524\n",
            "Epoch [17/100], Loss: 4277.2225\n",
            "Epoch [18/100], Loss: 4210.9849\n",
            "Epoch [19/100], Loss: 4196.6730\n",
            "Epoch [20/100], Loss: 4161.0805\n",
            "Epoch [21/100], Loss: 4226.9614\n",
            "Epoch [22/100], Loss: 4136.5694\n",
            "Epoch [23/100], Loss: 4128.3806\n",
            "Epoch [24/100], Loss: 4108.0009\n",
            "Epoch [25/100], Loss: 4102.1497\n",
            "Epoch [26/100], Loss: 4099.7406\n",
            "Epoch [27/100], Loss: 4107.5364\n",
            "Epoch [28/100], Loss: 4108.1948\n",
            "Epoch [29/100], Loss: 4095.3274\n",
            "Epoch [30/100], Loss: 4132.7714\n",
            "Epoch [31/100], Loss: 4068.9672\n",
            "Epoch [32/100], Loss: 4048.9822\n",
            "Epoch [33/100], Loss: 4057.2525\n",
            "Epoch [34/100], Loss: 4050.0502\n",
            "Epoch [35/100], Loss: 4038.6825\n",
            "Epoch [36/100], Loss: 4048.1667\n",
            "Epoch [37/100], Loss: 4032.4883\n",
            "Epoch [38/100], Loss: 4080.7491\n",
            "Epoch [39/100], Loss: 4015.5094\n",
            "Epoch [40/100], Loss: 4015.3977\n",
            "Epoch [41/100], Loss: 4012.8944\n",
            "Epoch [42/100], Loss: 4001.0846\n",
            "Epoch [43/100], Loss: 4007.1804\n",
            "Epoch [44/100], Loss: 4005.3369\n",
            "Epoch [45/100], Loss: 4002.4672\n",
            "Epoch [46/100], Loss: 4000.1222\n",
            "Epoch [47/100], Loss: 3993.5801\n",
            "Epoch [48/100], Loss: 3988.9785\n",
            "Epoch [49/100], Loss: 4000.5449\n",
            "Epoch [50/100], Loss: 3975.7219\n",
            "Epoch [51/100], Loss: 3976.6197\n",
            "Epoch [52/100], Loss: 3973.0440\n",
            "Epoch [53/100], Loss: 3993.3233\n",
            "Epoch [54/100], Loss: 3971.9835\n",
            "Epoch [55/100], Loss: 3964.0664\n",
            "Epoch [56/100], Loss: 3967.7788\n",
            "Epoch [57/100], Loss: 3957.6175\n",
            "Epoch [58/100], Loss: 3959.9332\n",
            "Epoch [59/100], Loss: 3957.7721\n",
            "Epoch [60/100], Loss: 3958.4771\n",
            "Epoch [61/100], Loss: 3962.2361\n",
            "Epoch [62/100], Loss: 3946.1043\n",
            "Epoch [63/100], Loss: 3955.5000\n",
            "Epoch [64/100], Loss: 3938.8996\n",
            "Epoch [65/100], Loss: 3945.5174\n",
            "Epoch [66/100], Loss: 3936.4215\n",
            "Epoch [67/100], Loss: 3941.7094\n",
            "Epoch [68/100], Loss: 3930.2752\n",
            "Epoch [69/100], Loss: 3935.6415\n",
            "Epoch [70/100], Loss: 3923.4691\n",
            "Epoch [71/100], Loss: 3923.2552\n",
            "Epoch [72/100], Loss: 3921.0946\n",
            "Epoch [73/100], Loss: 3921.0154\n",
            "Epoch [74/100], Loss: 3917.3767\n",
            "Epoch [75/100], Loss: 3908.2496\n",
            "Epoch [76/100], Loss: 3913.2293\n",
            "Epoch [77/100], Loss: 3906.7787\n",
            "Epoch [78/100], Loss: 3903.1698\n",
            "Epoch [79/100], Loss: 3901.9762\n",
            "Epoch [80/100], Loss: 3903.4231\n",
            "Epoch [81/100], Loss: 3889.5029\n",
            "Epoch [82/100], Loss: 3887.8051\n",
            "Epoch [83/100], Loss: 3881.2469\n",
            "Epoch [84/100], Loss: 3889.3960\n",
            "Epoch [85/100], Loss: 3883.8442\n",
            "Epoch [86/100], Loss: 3878.2239\n",
            "Epoch [87/100], Loss: 3872.7422\n",
            "Epoch [88/100], Loss: 3870.9305\n",
            "Epoch [89/100], Loss: 3878.2448\n",
            "Epoch [90/100], Loss: 3866.3609\n",
            "Epoch [91/100], Loss: 3868.7079\n",
            "Epoch [92/100], Loss: 3859.5689\n",
            "Epoch [93/100], Loss: 3860.3991\n",
            "Epoch [94/100], Loss: 3859.4546\n",
            "Epoch [95/100], Loss: 3859.8100\n",
            "Epoch [96/100], Loss: 3857.4907\n",
            "Epoch [97/100], Loss: 3857.0828\n",
            "Epoch [98/100], Loss: 3855.4758\n",
            "Epoch [99/100], Loss: 3855.5159\n",
            "Epoch [100/100], Loss: 3856.8265\n",
            "Model saved to autoencoder_model.pth\n"
          ]
        }
      ],
      "source": [
        "# 모델 초기화\n",
        "model = Autoencoder()\n",
        "optimizer = optim.Adam(model.parameters(), lr=1e-3)\n",
        "\n",
        "# 모델을 GPU로 이동\n",
        "model = model.to(device)\n",
        "\n",
        "# 경계 마스크 생성\n",
        "boundary_mask = create_boundary_mask((256, 256)).to(device)\n",
        "\n",
        "# 학습 루프\n",
        "num_epochs = 100\n",
        "for epoch in range(num_epochs):\n",
        "    model.train()\n",
        "    train_loss = 0\n",
        "    for data in train_loader:\n",
        "        inputs = data\n",
        "        inputs = inputs.to(device)\n",
        "        optimizer.zero_grad()\n",
        "        u_pred, _ = model(inputs)\n",
        "        loss = unsupervised_loss(u_pred, inputs, h, boundary_mask)\n",
        "        loss.backward()\n",
        "        optimizer.step()\n",
        "        train_loss += loss.item()\n",
        "\n",
        "    train_loss /= len(train_loader)\n",
        "    print(f'Epoch [{epoch+1}/{num_epochs}], Loss: {train_loss:.4f}')\n",
        "\n",
        "# 모델 저장\n",
        "torch.save(model.state_dict(), 'autoencoder_model.pth')\n",
        "print(\"Model saved to autoencoder_model.pth\")\n"
      ]
    },
    {
      "cell_type": "code",
      "execution_count": 144,
      "id": "uii_WP9jhjkt",
      "metadata": {
        "id": "uii_WP9jhjkt"
      },
      "outputs": [
        {
          "data": {
            "text/plain": [
              "Autoencoder(\n",
              "  (encoder): Sequential(\n",
              "    (0): Conv2d(1, 32, kernel_size=(4, 4), stride=(2, 2), padding=(1, 1))\n",
              "    (1): BatchNorm2d(32, eps=1e-05, momentum=0.1, affine=True, track_running_stats=True)\n",
              "    (2): ReLU()\n",
              "    (3): Conv2d(32, 64, kernel_size=(4, 4), stride=(2, 2), padding=(1, 1))\n",
              "    (4): BatchNorm2d(64, eps=1e-05, momentum=0.1, affine=True, track_running_stats=True)\n",
              "    (5): ReLU()\n",
              "    (6): Conv2d(64, 128, kernel_size=(4, 4), stride=(2, 2), padding=(1, 1))\n",
              "    (7): BatchNorm2d(128, eps=1e-05, momentum=0.1, affine=True, track_running_stats=True)\n",
              "    (8): ReLU()\n",
              "    (9): Flatten(start_dim=1, end_dim=-1)\n",
              "    (10): Linear(in_features=131072, out_features=128, bias=True)\n",
              "    (11): ReLU()\n",
              "  )\n",
              "  (fc): Linear(in_features=128, out_features=128, bias=True)\n",
              "  (decoder): Sequential(\n",
              "    (0): Linear(in_features=128, out_features=131072, bias=True)\n",
              "    (1): ReLU()\n",
              "    (2): Unflatten(dim=1, unflattened_size=(128, 32, 32))\n",
              "    (3): ConvTranspose2d(128, 64, kernel_size=(4, 4), stride=(2, 2), padding=(1, 1))\n",
              "    (4): BatchNorm2d(64, eps=1e-05, momentum=0.1, affine=True, track_running_stats=True)\n",
              "    (5): ReLU()\n",
              "    (6): ConvTranspose2d(64, 32, kernel_size=(4, 4), stride=(2, 2), padding=(1, 1))\n",
              "    (7): BatchNorm2d(32, eps=1e-05, momentum=0.1, affine=True, track_running_stats=True)\n",
              "    (8): ReLU()\n",
              "    (9): ConvTranspose2d(32, 1, kernel_size=(4, 4), stride=(2, 2), padding=(1, 1))\n",
              "    (10): Sigmoid()\n",
              "  )\n",
              ")"
            ]
          },
          "execution_count": 144,
          "metadata": {},
          "output_type": "execute_result"
        }
      ],
      "source": [
        "# 모델 로드\n",
        "model.load_state_dict(torch.load('autoencoder_model.pth'))\n",
        "model.eval()"
      ]
    },
    {
      "cell_type": "code",
      "execution_count": 146,
      "id": "2fd151ae",
      "metadata": {},
      "outputs": [],
      "source": [
        "f_tensor = torch.tensor(f_matrices[0]).unsqueeze(0).unsqueeze(0).float().to(device)\n",
        "\n",
        "with torch.no_grad():\n",
        "    predicted_u, _ = model(f_tensor)\n",
        "    \n",
        "predicted_u = predicted_u.squeeze().cpu().numpy()"
      ]
    },
    {
      "cell_type": "code",
      "execution_count": 147,
      "id": "0b246c49",
      "metadata": {},
      "outputs": [
        {
          "name": "stdout",
          "output_type": "stream",
          "text": [
            "Mean Squared Error: 0.500432786004854\n",
            "\n",
            "dl_u: \n",
            "[[0.04967197 0.01707991 0.02391988 ... 0.02120605 0.01636723 0.02995701]\n",
            " [0.02039165 0.0009082  0.00078521 ... 0.00073062 0.00066548 0.01866348]\n",
            " [0.01606615 0.00061115 0.00050324 ... 0.00065878 0.00100461 0.03021178]\n",
            " ...\n",
            " [0.02268694 0.00066091 0.00041489 ... 0.00031574 0.00067622 0.02574109]\n",
            " [0.02209414 0.0008191  0.00082662 ... 0.00081446 0.00092839 0.02933783]\n",
            " [0.04476889 0.00814616 0.01348527 ... 0.02673992 0.01916635 0.03050317]]\n",
            "\n",
            "fem_u: \n",
            "[[0.         0.         0.         ... 0.         0.         0.        ]\n",
            " [0.         0.0001046  0.00019172 ... 0.00019172 0.0001046  0.        ]\n",
            " [0.         0.00019172 0.00036105 ... 0.00036105 0.00019172 0.        ]\n",
            " ...\n",
            " [0.         0.00019172 0.00036105 ... 0.00036105 0.00019172 0.        ]\n",
            " [0.         0.0001046  0.00019172 ... 0.00019172 0.0001046  0.        ]\n",
            " [0.         0.         0.         ... 0.         0.         0.        ]]\n",
            "\n"
          ]
        }
      ],
      "source": [
        "# MSE 계산 및 시각화\n",
        "mse = np.mean((predicted_u - fem_u_reshaped) ** 2)\n",
        "print(f'Mean Squared Error: {mse}\\n')\n",
        "print(f'dl_u: \\n{predicted_u}\\n')\n",
        "print(f'fem_u: \\n{fem_u_reshaped}\\n')"
      ]
    },
    {
      "cell_type": "code",
      "execution_count": 149,
      "id": "e1M4lBho0IZH",
      "metadata": {
        "colab": {
          "base_uri": "https://localhost:8080/",
          "height": 514
        },
        "id": "e1M4lBho0IZH",
        "outputId": "0bbe3d55-9faa-4a4a-dd26-b2a51dc0c360"
      },
      "outputs": [
        {
          "data": {
            "image/png": "[encoded data removed]",
            "text/plain": [
              "<Figure size 1200x600 with 4 Axes>"
            ]
          },
          "metadata": {},
          "output_type": "display_data"
        }
      ],
      "source": [
        "plt.figure(figsize=(12, 6))\n",
        "plt.subplot(1, 2, 1)\n",
        "plt.title(\"Predicted u\")\n",
        "plt.imshow(predicted_u, cmap='viridis', extent=(0, 1, 0, 1))\n",
        "plt.colorbar()\n",
        "\n",
        "plt.subplot(1, 2, 2)\n",
        "plt.title(\"FEM u\")\n",
        "plt.imshow(fem_u.reshape((256, 256)), cmap='viridis', extent=(0, 1, 0, 1))\n",
        "plt.colorbar()\n",
        "\n",
        "plt.show()"
      ]
    },
    {
      "cell_type": "code",
      "execution_count": null,
      "id": "5mTvNp5f9o4N",
      "metadata": {
        "id": "5mTvNp5f9o4N"
      },
      "outputs": [],
      "source": []
    }
  ],
  "metadata": {
    "accelerator": "GPU",
    "colab": {
      "gpuType": "T4",
      "provenance": []
    },
    "kernelspec": {
      "display_name": "Python 3",
      "name": "python3"
    },
    "language_info": {
      "codemirror_mode": {
        "name": "ipython",
        "version": 3
      },
      "file_extension": ".py",
      "mimetype": "text/x-python",
      "name": "python",
      "nbconvert_exporter": "python",
      "pygments_lexer": "ipython3",
      "version": "3.12.2"
    },
    "toc": {
      "base_numbering": 1,
      "nav_menu": {},
      "number_sections": true,
      "sideBar": true,
      "skip_h1_title": false,
      "title_cell": "Table of Contents",
      "title_sidebar": "Contents",
      "toc_cell": false,
      "toc_position": {},
      "toc_section_display": true,
      "toc_window_display": false
    },
    "varInspector": {
      "cols": {
        "lenName": 16,
        "lenType": 16,
        "lenVar": 40
      },
      "kernels_config": {
        "python": {
          "delete_cmd_postfix": "",
          "delete_cmd_prefix": "del ",
          "library": "var_list.py",
          "varRefreshCmd": "print(var_dic_list())"
        },
        "r": {
          "delete_cmd_postfix": ") ",
          "delete_cmd_prefix": "rm(",
          "library": "var_list.r",
          "varRefreshCmd": "cat(var_dic_list()) "
        }
      },
      "types_to_exclude": [
        "module",
        "function",
        "builtin_function_or_method",
        "instance",
        "_Feature"
      ],
      "window_display": false
    }
  },
  "nbformat": 4,
  "nbformat_minor": 5
}
