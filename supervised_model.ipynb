{
  "cells": [
    {
      "cell_type": "code",
      "execution_count": 1,
      "id": "5d4b7145",
      "metadata": {
        "id": "5d4b7145"
      },
      "outputs": [],
      "source": [
        "import numpy as np\n",
        "import os\n",
        "import torch\n",
        "import torch.nn as nn\n",
        "import torch.optim as optim\n",
        "from torch.utils.data import DataLoader, Dataset\n",
        "import matplotlib.pyplot as plt\n",
        "from tqdm import tqdm\n",
        "\n",
        "from thirdparty.fem_2d_rec import fem_poisson_solver,mesh_fem_2d_rec,get_matrices_2d\n",
        "from common.util import create_boundary_mask, create_interior_mask, Dirichlet_bc_tensor, Dirichlet_bc_array\n",
        "from models.autoencoder import Autoencoder\n",
        "from loss.loss import unsupervised_loss, h_loss"
      ]
    },
    {
      "cell_type": "code",
      "execution_count": 2,
      "id": "1665db88",
      "metadata": {},
      "outputs": [
        {
          "name": "stdout",
          "output_type": "stream",
          "text": [
            "Using device: cuda\n"
          ]
        }
      ],
      "source": [
        "device = torch.device('cuda' if torch.cuda.is_available() else 'cpu')\n",
        "print(f\"Using device: {device}\")"
      ]
    },
    {
      "cell_type": "markdown",
      "id": "4b00a4c2",
      "metadata": {},
      "source": [
        "# Generate 'u' data using the FEM solver"
      ]
    },
    {
      "cell_type": "code",
      "execution_count": 9,
      "id": "f9dc27a8",
      "metadata": {},
      "outputs": [],
      "source": [
        "def generate_and_save_fem_u_dataset(f_values, input_shape, file_name):\n",
        "    a, b, k, M = 0, 1, 1, 255\n",
        "    c4n, n4e, n4db, ind4e = mesh_fem_2d_rec(a, b, a, b, M, M, k)\n",
        "    M_R, Srr_R, Sss_R, Dr_R, Ds_R = get_matrices_2d(k)\n",
        "    u_dataset = []\n",
        "\n",
        "    for f_value in tqdm(f_values, desc=\"Generating FEM solutions\"):\n",
        "        f = lambda x: np.full(x.shape[0], f_value)\n",
        "        u_D = lambda x: x[:, 0] * 0\n",
        "        fem_u = fem_poisson_solver(c4n, n4e, n4db, ind4e, k, M_R, Srr_R, Sss_R, f, u_D)\n",
        "        fem_u_reshaped = fem_u.reshape(input_shape)\n",
        "        u_dataset.append(fem_u_reshaped)\n",
        "\n",
        "    u_dataset = np.array(u_dataset)\n",
        "    np.save(file_name, u_dataset)\n",
        "    print(f\"Saved {len(u_dataset)} u matrices to {file_name}\")\n",
        "    return u_dataset"
      ]
    },
    {
      "cell_type": "code",
      "execution_count": 10,
      "id": "f1dd9304",
      "metadata": {},
      "outputs": [
        {
          "name": "stderr",
          "output_type": "stream",
          "text": [
            "Generating FEM solutions:  22%|██▏       | 175/800 [02:36<09:18,  1.12it/s]\n"
          ]
        },
        {
          "ename": "KeyboardInterrupt",
          "evalue": "",
          "output_type": "error",
          "traceback": [
            "\u001b[0;31m---------------------------------------------------------------------------\u001b[0m",
            "\u001b[0;31mKeyboardInterrupt\u001b[0m                         Traceback (most recent call last)",
            "Cell \u001b[0;32mIn[10], line 4\u001b[0m\n\u001b[1;32m      2\u001b[0m input_shape \u001b[38;5;241m=\u001b[39m (\u001b[38;5;241m256\u001b[39m, \u001b[38;5;241m256\u001b[39m)\n\u001b[1;32m      3\u001b[0m file_name \u001b[38;5;241m=\u001b[39m \u001b[38;5;124m'\u001b[39m\u001b[38;5;124m./u_dataset.npy\u001b[39m\u001b[38;5;124m'\u001b[39m\n\u001b[0;32m----> 4\u001b[0m u_dataset \u001b[38;5;241m=\u001b[39m \u001b[43mgenerate_and_save_fem_u_dataset\u001b[49m\u001b[43m(\u001b[49m\u001b[43mf_values\u001b[49m\u001b[43m,\u001b[49m\u001b[43m \u001b[49m\u001b[43minput_shape\u001b[49m\u001b[43m,\u001b[49m\u001b[43m \u001b[49m\u001b[43mfile_name\u001b[49m\u001b[43m)\u001b[49m\n\u001b[1;32m      5\u001b[0m \u001b[38;5;28mprint\u001b[39m(\u001b[38;5;124mf\u001b[39m\u001b[38;5;124m\"\u001b[39m\u001b[38;5;124mGenerated \u001b[39m\u001b[38;5;132;01m{\u001b[39;00m\u001b[38;5;28mlen\u001b[39m(u_dataset)\u001b[38;5;132;01m}\u001b[39;00m\u001b[38;5;124m u matrices from FEM\u001b[39m\u001b[38;5;124m\"\u001b[39m)\n",
            "Cell \u001b[0;32mIn[9], line 10\u001b[0m, in \u001b[0;36mgenerate_and_save_fem_u_dataset\u001b[0;34m(f_values, input_shape, file_name)\u001b[0m\n\u001b[1;32m      8\u001b[0m f \u001b[38;5;241m=\u001b[39m \u001b[38;5;28;01mlambda\u001b[39;00m x: np\u001b[38;5;241m.\u001b[39mfull(x\u001b[38;5;241m.\u001b[39mshape[\u001b[38;5;241m0\u001b[39m], f_value)\n\u001b[1;32m      9\u001b[0m u_D \u001b[38;5;241m=\u001b[39m \u001b[38;5;28;01mlambda\u001b[39;00m x: x[:, \u001b[38;5;241m0\u001b[39m] \u001b[38;5;241m*\u001b[39m \u001b[38;5;241m0\u001b[39m\n\u001b[0;32m---> 10\u001b[0m fem_u \u001b[38;5;241m=\u001b[39m \u001b[43mfem_poisson_solver\u001b[49m\u001b[43m(\u001b[49m\u001b[43mc4n\u001b[49m\u001b[43m,\u001b[49m\u001b[43m \u001b[49m\u001b[43mn4e\u001b[49m\u001b[43m,\u001b[49m\u001b[43m \u001b[49m\u001b[43mn4db\u001b[49m\u001b[43m,\u001b[49m\u001b[43m \u001b[49m\u001b[43mind4e\u001b[49m\u001b[43m,\u001b[49m\u001b[43m \u001b[49m\u001b[43mk\u001b[49m\u001b[43m,\u001b[49m\u001b[43m \u001b[49m\u001b[43mM_R\u001b[49m\u001b[43m,\u001b[49m\u001b[43m \u001b[49m\u001b[43mSrr_R\u001b[49m\u001b[43m,\u001b[49m\u001b[43m \u001b[49m\u001b[43mSss_R\u001b[49m\u001b[43m,\u001b[49m\u001b[43m \u001b[49m\u001b[43mf\u001b[49m\u001b[43m,\u001b[49m\u001b[43m \u001b[49m\u001b[43mu_D\u001b[49m\u001b[43m)\u001b[49m\n\u001b[1;32m     11\u001b[0m fem_u_reshaped \u001b[38;5;241m=\u001b[39m fem_u\u001b[38;5;241m.\u001b[39mreshape(input_shape)\n\u001b[1;32m     12\u001b[0m u_dataset\u001b[38;5;241m.\u001b[39mappend(fem_u_reshaped)\n",
            "File \u001b[0;32m~/PDE_Solver/thirdparty/fem_2d_rec.py:41\u001b[0m, in \u001b[0;36mfem_poisson_solver\u001b[0;34m(c4n, n4e, n4db, ind4e, k, M_R, Srr_R, Sss_R, f, u_D)\u001b[0m\n\u001b[1;32m     39\u001b[0m A \u001b[38;5;241m=\u001b[39m A_COO\u001b[38;5;241m.\u001b[39mtocsr()\n\u001b[1;32m     40\u001b[0m dof \u001b[38;5;241m=\u001b[39m np\u001b[38;5;241m.\u001b[39msetdiff1d(\u001b[38;5;28mrange\u001b[39m(\u001b[38;5;241m0\u001b[39m, number_of_nodes), np\u001b[38;5;241m.\u001b[39munique(n4db))\n\u001b[0;32m---> 41\u001b[0m u[dof] \u001b[38;5;241m=\u001b[39m \u001b[43mspsolve\u001b[49m\u001b[43m(\u001b[49m\u001b[43mA\u001b[49m\u001b[43m[\u001b[49m\u001b[43mdof\u001b[49m\u001b[43m,\u001b[49m\u001b[43m \u001b[49m\u001b[43m:\u001b[49m\u001b[43m]\u001b[49m\u001b[38;5;241;43m.\u001b[39;49m\u001b[43mtocsc\u001b[49m\u001b[43m(\u001b[49m\u001b[43m)\u001b[49m\u001b[43m[\u001b[49m\u001b[43m:\u001b[49m\u001b[43m,\u001b[49m\u001b[43m \u001b[49m\u001b[43mdof\u001b[49m\u001b[43m]\u001b[49m\u001b[38;5;241;43m.\u001b[39;49m\u001b[43mtocsr\u001b[49m\u001b[43m(\u001b[49m\u001b[43m)\u001b[49m\u001b[43m,\u001b[49m\u001b[43m \u001b[49m\u001b[43mb\u001b[49m\u001b[43m[\u001b[49m\u001b[43mdof\u001b[49m\u001b[43m]\u001b[49m\u001b[43m)\u001b[49m\n\u001b[1;32m     42\u001b[0m \u001b[38;5;28;01mreturn\u001b[39;00m u\n",
            "File \u001b[0;32m~/anaconda3/envs/pytorch/lib/python3.12/site-packages/scipy/sparse/linalg/_dsolve/linsolve.py:290\u001b[0m, in \u001b[0;36mspsolve\u001b[0;34m(A, b, permc_spec, use_umfpack)\u001b[0m\n\u001b[1;32m    288\u001b[0m indptr \u001b[38;5;241m=\u001b[39m A\u001b[38;5;241m.\u001b[39mindptr\u001b[38;5;241m.\u001b[39mastype(np\u001b[38;5;241m.\u001b[39mintc, copy\u001b[38;5;241m=\u001b[39m\u001b[38;5;28;01mFalse\u001b[39;00m)\n\u001b[1;32m    289\u001b[0m options \u001b[38;5;241m=\u001b[39m \u001b[38;5;28mdict\u001b[39m(ColPerm\u001b[38;5;241m=\u001b[39mpermc_spec)\n\u001b[0;32m--> 290\u001b[0m x, info \u001b[38;5;241m=\u001b[39m \u001b[43m_superlu\u001b[49m\u001b[38;5;241;43m.\u001b[39;49m\u001b[43mgssv\u001b[49m\u001b[43m(\u001b[49m\u001b[43mN\u001b[49m\u001b[43m,\u001b[49m\u001b[43m \u001b[49m\u001b[43mA\u001b[49m\u001b[38;5;241;43m.\u001b[39;49m\u001b[43mnnz\u001b[49m\u001b[43m,\u001b[49m\u001b[43m \u001b[49m\u001b[43mA\u001b[49m\u001b[38;5;241;43m.\u001b[39;49m\u001b[43mdata\u001b[49m\u001b[43m,\u001b[49m\u001b[43m \u001b[49m\u001b[43mindices\u001b[49m\u001b[43m,\u001b[49m\u001b[43m \u001b[49m\u001b[43mindptr\u001b[49m\u001b[43m,\u001b[49m\n\u001b[1;32m    291\u001b[0m \u001b[43m                        \u001b[49m\u001b[43mb\u001b[49m\u001b[43m,\u001b[49m\u001b[43m \u001b[49m\u001b[43mflag\u001b[49m\u001b[43m,\u001b[49m\u001b[43m \u001b[49m\u001b[43moptions\u001b[49m\u001b[38;5;241;43m=\u001b[39;49m\u001b[43moptions\u001b[49m\u001b[43m)\u001b[49m\n\u001b[1;32m    292\u001b[0m \u001b[38;5;28;01mif\u001b[39;00m info \u001b[38;5;241m!=\u001b[39m \u001b[38;5;241m0\u001b[39m:\n\u001b[1;32m    293\u001b[0m     warn(\u001b[38;5;124m\"\u001b[39m\u001b[38;5;124mMatrix is exactly singular\u001b[39m\u001b[38;5;124m\"\u001b[39m, MatrixRankWarning)\n",
            "\u001b[0;31mKeyboardInterrupt\u001b[0m: "
          ]
        }
      ],
      "source": [
        "f_values = np.arange(-2000, 2000, 3)\n",
        "input_shape = (256, 256)\n",
        "file_name = './u_dataset.npy'\n",
        "u_dataset = generate_and_save_fem_u_dataset(f_values, input_shape, file_name)\n",
        "print(f\"Generated {len(u_dataset)} u matrices from FEM\")"
      ]
    },
    {
      "cell_type": "markdown",
      "id": "ea307561",
      "metadata": {},
      "source": [
        "# VAE Model"
      ]
    },
    {
      "cell_type": "code",
      "execution_count": 3,
      "id": "4658a679",
      "metadata": {},
      "outputs": [],
      "source": [
        "class VAE(nn.Module):\n",
        "    def __init__(self, latent_dim=128):\n",
        "        super(VAE, self).__init__()\n",
        "        \n",
        "        self.encoder = nn.Sequential(\n",
        "            nn.Conv2d(1, 32, kernel_size=4, stride=2, padding=1),\n",
        "            nn.BatchNorm2d(32),\n",
        "            nn.ReLU(),\n",
        "            nn.Conv2d(32, 64, kernel_size=4, stride=2, padding=1),\n",
        "            nn.BatchNorm2d(64),\n",
        "            nn.ReLU(),\n",
        "            nn.Conv2d(64, 128, kernel_size=4, stride=2, padding=1),\n",
        "            nn.BatchNorm2d(128),\n",
        "            nn.ReLU(),\n",
        "            nn.Flatten(),\n",
        "            nn.Linear(128 * 32 * 32, 512),\n",
        "            nn.ReLU()\n",
        "        )\n",
        "        \n",
        "        self.fc_mu = nn.Linear(512, latent_dim)\n",
        "        self.fc_logvar = nn.Linear(512, latent_dim)\n",
        "        \n",
        "        self.fc_dec = nn.Linear(latent_dim, 512)\n",
        "        \n",
        "        self.decoder = nn.Sequential(\n",
        "            nn.Linear(512, 128 * 32 * 32),\n",
        "            nn.ReLU(),\n",
        "            nn.Unflatten(1, (128, 32, 32)),\n",
        "            nn.ConvTranspose2d(128, 64, kernel_size=4, stride=2, padding=1),\n",
        "            nn.BatchNorm2d(64),\n",
        "            nn.ReLU(),\n",
        "            nn.ConvTranspose2d(64, 32, kernel_size=4, stride=2, padding=1),\n",
        "            nn.BatchNorm2d(32),\n",
        "            nn.ReLU(),\n",
        "            nn.ConvTranspose2d(32, 1, kernel_size=4, stride=2, padding=1),\n",
        "            nn.ReLU()\n",
        "        )\n",
        "    \n",
        "    def encode(self, x):\n",
        "        h = self.encoder(x)\n",
        "        mu = self.fc_mu(h)\n",
        "        logvar = self.fc_logvar(h)\n",
        "        return mu, logvar\n",
        "    \n",
        "    def reparameterize(self, mu, logvar):\n",
        "        std = torch.exp(0.5 * logvar)\n",
        "        eps = torch.randn_like(std)\n",
        "        return mu + eps * std\n",
        "    \n",
        "    def decode(self, z):\n",
        "        h = self.fc_dec(z)\n",
        "        return self.decoder(h)\n",
        "    \n",
        "    def forward(self, x):\n",
        "        mu, logvar = self.encode(x)\n",
        "        z = self.reparameterize(mu, logvar)\n",
        "        recon_x = self.decode(z)\n",
        "        return recon_x, mu, logvar"
      ]
    },
    {
      "cell_type": "code",
      "execution_count": 4,
      "id": "ace0f046",
      "metadata": {},
      "outputs": [],
      "source": [
        "def vae_loss(recon_x, x, mu, logvar):\n",
        "    MSE = nn.functional.mse_loss(recon_x, x, reduction='sum')\n",
        "    KLD = -0.5 * torch.sum(1 + logvar - mu.pow(2) - logvar.exp())\n",
        "    return MSE + KLD"
      ]
    },
    {
      "cell_type": "code",
      "execution_count": 5,
      "id": "a9e92673",
      "metadata": {},
      "outputs": [],
      "source": [
        "class PoissonDataset(Dataset):\n",
        "    def __init__(self, u_matrices):\n",
        "        self.u_matrices = u_matrices\n",
        "\n",
        "    def __len__(self):\n",
        "        return len(self.u_matrices)\n",
        "\n",
        "    def __getitem__(self, idx):\n",
        "        u_matrix = self.u_matrices[idx]\n",
        "        u_tensor = torch.tensor(u_matrix).unsqueeze(0).float()  # (1, H, W) 형태로 변환\n",
        "        return u_tensor\n",
        "\n",
        "u_values = np.load('fem_u_values.npy')\n",
        "\n",
        "dataset = PoissonDataset(u_values)\n",
        "train_loader = DataLoader(dataset, batch_size=32, shuffle=True)"
      ]
    },
    {
      "cell_type": "code",
      "execution_count": 13,
      "id": "b6f8aa60",
      "metadata": {},
      "outputs": [
        {
          "name": "stdout",
          "output_type": "stream",
          "text": [
            "[[[ 0.          0.          0.         ...  0.          0.\n",
            "    0.        ]\n",
            "  [ 0.         -0.05229798 -0.09586136 ... -0.09586136 -0.05229798\n",
            "    0.        ]\n",
            "  [ 0.         -0.09586136 -0.18052506 ... -0.18052506 -0.09586136\n",
            "    0.        ]\n",
            "  ...\n",
            "  [ 0.         -0.09586136 -0.18052506 ... -0.18052506 -0.09586136\n",
            "    0.        ]\n",
            "  [ 0.         -0.05229798 -0.09586136 ... -0.09586136 -0.05229798\n",
            "    0.        ]\n",
            "  [ 0.          0.          0.         ...  0.          0.\n",
            "    0.        ]]\n",
            "\n",
            " [[ 0.          0.          0.         ...  0.          0.\n",
            "    0.        ]\n",
            "  [ 0.         -0.05203649 -0.09538205 ... -0.09538205 -0.05203649\n",
            "    0.        ]\n",
            "  [ 0.         -0.09538205 -0.17962243 ... -0.17962243 -0.09538205\n",
            "    0.        ]\n",
            "  ...\n",
            "  [ 0.         -0.09538205 -0.17962243 ... -0.17962243 -0.09538205\n",
            "    0.        ]\n",
            "  [ 0.         -0.05203649 -0.09538205 ... -0.09538205 -0.05203649\n",
            "    0.        ]\n",
            "  [ 0.          0.          0.         ...  0.          0.\n",
            "    0.        ]]\n",
            "\n",
            " [[ 0.          0.          0.         ...  0.          0.\n",
            "    0.        ]\n",
            "  [ 0.         -0.051775   -0.09490274 ... -0.09490274 -0.051775\n",
            "    0.        ]\n",
            "  [ 0.         -0.09490274 -0.17871981 ... -0.17871981 -0.09490274\n",
            "    0.        ]\n",
            "  ...\n",
            "  [ 0.         -0.09490274 -0.17871981 ... -0.17871981 -0.09490274\n",
            "    0.        ]\n",
            "  [ 0.         -0.051775   -0.09490274 ... -0.09490274 -0.051775\n",
            "    0.        ]\n",
            "  [ 0.          0.          0.         ...  0.          0.\n",
            "    0.        ]]\n",
            "\n",
            " ...\n",
            "\n",
            " [[ 0.          0.          0.         ...  0.          0.\n",
            "    0.        ]\n",
            "  [ 0.          0.05151351  0.09442344 ...  0.09442344  0.05151351\n",
            "    0.        ]\n",
            "  [ 0.          0.09442344  0.17781718 ...  0.17781718  0.09442344\n",
            "    0.        ]\n",
            "  ...\n",
            "  [ 0.          0.09442344  0.17781718 ...  0.17781718  0.09442344\n",
            "    0.        ]\n",
            "  [ 0.          0.05151351  0.09442344 ...  0.09442344  0.05151351\n",
            "    0.        ]\n",
            "  [ 0.          0.          0.         ...  0.          0.\n",
            "    0.        ]]\n",
            "\n",
            " [[ 0.          0.          0.         ...  0.          0.\n",
            "    0.        ]\n",
            "  [ 0.          0.051775    0.09490274 ...  0.09490274  0.051775\n",
            "    0.        ]\n",
            "  [ 0.          0.09490274  0.17871981 ...  0.17871981  0.09490274\n",
            "    0.        ]\n",
            "  ...\n",
            "  [ 0.          0.09490274  0.17871981 ...  0.17871981  0.09490274\n",
            "    0.        ]\n",
            "  [ 0.          0.051775    0.09490274 ...  0.09490274  0.051775\n",
            "    0.        ]\n",
            "  [ 0.          0.          0.         ...  0.          0.\n",
            "    0.        ]]\n",
            "\n",
            " [[ 0.          0.          0.         ...  0.          0.\n",
            "    0.        ]\n",
            "  [ 0.          0.05203649  0.09538205 ...  0.09538205  0.05203649\n",
            "    0.        ]\n",
            "  [ 0.          0.09538205  0.17962243 ...  0.17962243  0.09538205\n",
            "    0.        ]\n",
            "  ...\n",
            "  [ 0.          0.09538205  0.17962243 ...  0.17962243  0.09538205\n",
            "    0.        ]\n",
            "  [ 0.          0.05203649  0.09538205 ...  0.09538205  0.05203649\n",
            "    0.        ]\n",
            "  [ 0.          0.          0.         ...  0.          0.\n",
            "    0.        ]]]\n"
          ]
        }
      ],
      "source": [
        "print(u_values)"
      ]
    },
    {
      "cell_type": "code",
      "execution_count": 7,
      "id": "d1841911",
      "metadata": {},
      "outputs": [
        {
          "name": "stderr",
          "output_type": "stream",
          "text": [
            "  2%|▏         | 1/50 [00:00<00:21,  2.24it/s]"
          ]
        },
        {
          "name": "stdout",
          "output_type": "stream",
          "text": [
            "Loss: 47666736894327665846518808576.0000\n"
          ]
        },
        {
          "name": "stderr",
          "output_type": "stream",
          "text": [
            "  4%|▍         | 2/50 [00:00<00:21,  2.27it/s]"
          ]
        },
        {
          "name": "stdout",
          "output_type": "stream",
          "text": [
            "Loss: 344993663483801931014891110400.0000\n"
          ]
        },
        {
          "name": "stderr",
          "output_type": "stream",
          "text": [
            "  6%|▌         | 3/50 [00:01<00:20,  2.27it/s]"
          ]
        },
        {
          "name": "stdout",
          "output_type": "stream",
          "text": [
            "Loss: 7912173134484482386318155841536.0000\n"
          ]
        },
        {
          "name": "stderr",
          "output_type": "stream",
          "text": [
            "  8%|▊         | 4/50 [00:01<00:20,  2.28it/s]"
          ]
        },
        {
          "name": "stdout",
          "output_type": "stream",
          "text": [
            "Loss: 145217170971844239393457963008.0000\n"
          ]
        },
        {
          "name": "stderr",
          "output_type": "stream",
          "text": [
            " 10%|█         | 5/50 [00:02<00:19,  2.28it/s]"
          ]
        },
        {
          "name": "stdout",
          "output_type": "stream",
          "text": [
            "Loss: 18438641730679366658079397511168.0000\n"
          ]
        },
        {
          "name": "stderr",
          "output_type": "stream",
          "text": [
            " 12%|█▏        | 6/50 [00:02<00:19,  2.28it/s]"
          ]
        },
        {
          "name": "stdout",
          "output_type": "stream",
          "text": [
            "Loss: 8690588784440504974858780672.0000\n"
          ]
        },
        {
          "name": "stderr",
          "output_type": "stream",
          "text": [
            " 14%|█▍        | 7/50 [00:03<00:18,  2.29it/s]"
          ]
        },
        {
          "name": "stdout",
          "output_type": "stream",
          "text": [
            "Loss: 9410827144759703352771776348160.0000\n"
          ]
        },
        {
          "name": "stderr",
          "output_type": "stream",
          "text": [
            " 16%|█▌        | 8/50 [00:03<00:18,  2.30it/s]"
          ]
        },
        {
          "name": "stdout",
          "output_type": "stream",
          "text": [
            "Loss: 655987745324424565187799941120.0000\n"
          ]
        },
        {
          "name": "stderr",
          "output_type": "stream",
          "text": [
            " 18%|█▊        | 9/50 [00:03<00:17,  2.28it/s]"
          ]
        },
        {
          "name": "stdout",
          "output_type": "stream",
          "text": [
            "Loss: 1094488963524809292984887541760.0000\n"
          ]
        },
        {
          "name": "stderr",
          "output_type": "stream",
          "text": [
            " 20%|██        | 10/50 [00:04<00:17,  2.28it/s]"
          ]
        },
        {
          "name": "stdout",
          "output_type": "stream",
          "text": [
            "Loss: 35856216894289385703191085056.0000\n"
          ]
        },
        {
          "name": "stderr",
          "output_type": "stream",
          "text": [
            " 22%|██▏       | 11/50 [00:04<00:17,  2.28it/s]"
          ]
        },
        {
          "name": "stdout",
          "output_type": "stream",
          "text": [
            "Loss: 96563196176973608262383435776.0000\n"
          ]
        },
        {
          "name": "stderr",
          "output_type": "stream",
          "text": [
            " 24%|██▍       | 12/50 [00:05<00:16,  2.28it/s]"
          ]
        },
        {
          "name": "stdout",
          "output_type": "stream",
          "text": [
            "Loss: nan\n"
          ]
        },
        {
          "name": "stderr",
          "output_type": "stream",
          "text": [
            " 26%|██▌       | 13/50 [00:05<00:16,  2.28it/s]"
          ]
        },
        {
          "name": "stdout",
          "output_type": "stream",
          "text": [
            "Loss: nan\n"
          ]
        },
        {
          "name": "stderr",
          "output_type": "stream",
          "text": [
            " 28%|██▊       | 14/50 [00:06<00:15,  2.29it/s]"
          ]
        },
        {
          "name": "stdout",
          "output_type": "stream",
          "text": [
            "Loss: nan\n"
          ]
        },
        {
          "name": "stderr",
          "output_type": "stream",
          "text": [
            " 30%|███       | 15/50 [00:06<00:15,  2.29it/s]"
          ]
        },
        {
          "name": "stdout",
          "output_type": "stream",
          "text": [
            "Loss: nan\n"
          ]
        },
        {
          "name": "stderr",
          "output_type": "stream",
          "text": [
            " 32%|███▏      | 16/50 [00:07<00:15,  2.20it/s]"
          ]
        },
        {
          "name": "stdout",
          "output_type": "stream",
          "text": [
            "Loss: nan\n"
          ]
        },
        {
          "name": "stderr",
          "output_type": "stream",
          "text": [
            " 34%|███▍      | 17/50 [00:07<00:14,  2.22it/s]"
          ]
        },
        {
          "name": "stdout",
          "output_type": "stream",
          "text": [
            "Loss: nan\n"
          ]
        },
        {
          "name": "stderr",
          "output_type": "stream",
          "text": [
            " 36%|███▌      | 18/50 [00:07<00:14,  2.24it/s]"
          ]
        },
        {
          "name": "stdout",
          "output_type": "stream",
          "text": [
            "Loss: nan\n"
          ]
        },
        {
          "name": "stderr",
          "output_type": "stream",
          "text": [
            " 38%|███▊      | 19/50 [00:08<00:13,  2.26it/s]"
          ]
        },
        {
          "name": "stdout",
          "output_type": "stream",
          "text": [
            "Loss: nan\n"
          ]
        },
        {
          "name": "stderr",
          "output_type": "stream",
          "text": [
            " 40%|████      | 20/50 [00:08<00:13,  2.27it/s]"
          ]
        },
        {
          "name": "stdout",
          "output_type": "stream",
          "text": [
            "Loss: nan\n"
          ]
        },
        {
          "name": "stderr",
          "output_type": "stream",
          "text": [
            " 42%|████▏     | 21/50 [00:09<00:12,  2.27it/s]"
          ]
        },
        {
          "name": "stdout",
          "output_type": "stream",
          "text": [
            "Loss: nan\n"
          ]
        },
        {
          "name": "stderr",
          "output_type": "stream",
          "text": [
            " 44%|████▍     | 22/50 [00:09<00:12,  2.28it/s]"
          ]
        },
        {
          "name": "stdout",
          "output_type": "stream",
          "text": [
            "Loss: nan\n"
          ]
        },
        {
          "name": "stderr",
          "output_type": "stream",
          "text": [
            " 46%|████▌     | 23/50 [00:10<00:11,  2.29it/s]"
          ]
        },
        {
          "name": "stdout",
          "output_type": "stream",
          "text": [
            "Loss: nan\n"
          ]
        },
        {
          "name": "stderr",
          "output_type": "stream",
          "text": [
            " 48%|████▊     | 24/50 [00:10<00:11,  2.29it/s]"
          ]
        },
        {
          "name": "stdout",
          "output_type": "stream",
          "text": [
            "Loss: nan\n"
          ]
        },
        {
          "name": "stderr",
          "output_type": "stream",
          "text": [
            " 50%|█████     | 25/50 [00:10<00:10,  2.29it/s]"
          ]
        },
        {
          "name": "stdout",
          "output_type": "stream",
          "text": [
            "Loss: nan\n"
          ]
        },
        {
          "name": "stderr",
          "output_type": "stream",
          "text": [
            " 52%|█████▏    | 26/50 [00:11<00:10,  2.29it/s]"
          ]
        },
        {
          "name": "stdout",
          "output_type": "stream",
          "text": [
            "Loss: nan\n"
          ]
        },
        {
          "name": "stderr",
          "output_type": "stream",
          "text": [
            " 54%|█████▍    | 27/50 [00:11<00:10,  2.29it/s]"
          ]
        },
        {
          "name": "stdout",
          "output_type": "stream",
          "text": [
            "Loss: nan\n"
          ]
        },
        {
          "name": "stderr",
          "output_type": "stream",
          "text": [
            " 56%|█████▌    | 28/50 [00:12<00:09,  2.29it/s]"
          ]
        },
        {
          "name": "stdout",
          "output_type": "stream",
          "text": [
            "Loss: nan\n"
          ]
        },
        {
          "name": "stderr",
          "output_type": "stream",
          "text": [
            " 58%|█████▊    | 29/50 [00:12<00:09,  2.30it/s]"
          ]
        },
        {
          "name": "stdout",
          "output_type": "stream",
          "text": [
            "Loss: nan\n"
          ]
        },
        {
          "name": "stderr",
          "output_type": "stream",
          "text": [
            " 60%|██████    | 30/50 [00:13<00:08,  2.29it/s]"
          ]
        },
        {
          "name": "stdout",
          "output_type": "stream",
          "text": [
            "Loss: nan\n"
          ]
        },
        {
          "name": "stderr",
          "output_type": "stream",
          "text": [
            " 62%|██████▏   | 31/50 [00:13<00:08,  2.19it/s]"
          ]
        },
        {
          "name": "stdout",
          "output_type": "stream",
          "text": [
            "Loss: nan\n"
          ]
        },
        {
          "name": "stderr",
          "output_type": "stream",
          "text": [
            " 64%|██████▍   | 32/50 [00:14<00:08,  2.21it/s]"
          ]
        },
        {
          "name": "stdout",
          "output_type": "stream",
          "text": [
            "Loss: nan\n"
          ]
        },
        {
          "name": "stderr",
          "output_type": "stream",
          "text": [
            " 66%|██████▌   | 33/50 [00:14<00:07,  2.23it/s]"
          ]
        },
        {
          "name": "stdout",
          "output_type": "stream",
          "text": [
            "Loss: nan\n"
          ]
        },
        {
          "name": "stderr",
          "output_type": "stream",
          "text": [
            " 68%|██████▊   | 34/50 [00:15<00:07,  2.24it/s]"
          ]
        },
        {
          "name": "stdout",
          "output_type": "stream",
          "text": [
            "Loss: nan\n"
          ]
        },
        {
          "name": "stderr",
          "output_type": "stream",
          "text": [
            " 70%|███████   | 35/50 [00:15<00:06,  2.25it/s]"
          ]
        },
        {
          "name": "stdout",
          "output_type": "stream",
          "text": [
            "Loss: nan\n"
          ]
        },
        {
          "name": "stderr",
          "output_type": "stream",
          "text": [
            " 72%|███████▏  | 36/50 [00:15<00:06,  2.26it/s]"
          ]
        },
        {
          "name": "stdout",
          "output_type": "stream",
          "text": [
            "Loss: nan\n"
          ]
        },
        {
          "name": "stderr",
          "output_type": "stream",
          "text": [
            " 74%|███████▍  | 37/50 [00:16<00:05,  2.26it/s]"
          ]
        },
        {
          "name": "stdout",
          "output_type": "stream",
          "text": [
            "Loss: nan\n"
          ]
        },
        {
          "name": "stderr",
          "output_type": "stream",
          "text": [
            " 76%|███████▌  | 38/50 [00:16<00:05,  2.27it/s]"
          ]
        },
        {
          "name": "stdout",
          "output_type": "stream",
          "text": [
            "Loss: nan\n"
          ]
        },
        {
          "name": "stderr",
          "output_type": "stream",
          "text": [
            " 78%|███████▊  | 39/50 [00:17<00:04,  2.27it/s]"
          ]
        },
        {
          "name": "stdout",
          "output_type": "stream",
          "text": [
            "Loss: nan\n"
          ]
        },
        {
          "name": "stderr",
          "output_type": "stream",
          "text": [
            " 80%|████████  | 40/50 [00:17<00:04,  2.27it/s]"
          ]
        },
        {
          "name": "stdout",
          "output_type": "stream",
          "text": [
            "Loss: nan\n"
          ]
        },
        {
          "name": "stderr",
          "output_type": "stream",
          "text": [
            " 82%|████████▏ | 41/50 [00:18<00:03,  2.27it/s]"
          ]
        },
        {
          "name": "stdout",
          "output_type": "stream",
          "text": [
            "Loss: nan\n"
          ]
        },
        {
          "name": "stderr",
          "output_type": "stream",
          "text": [
            " 84%|████████▍ | 42/50 [00:18<00:03,  2.28it/s]"
          ]
        },
        {
          "name": "stdout",
          "output_type": "stream",
          "text": [
            "Loss: nan\n"
          ]
        },
        {
          "name": "stderr",
          "output_type": "stream",
          "text": [
            " 86%|████████▌ | 43/50 [00:18<00:03,  2.28it/s]"
          ]
        },
        {
          "name": "stdout",
          "output_type": "stream",
          "text": [
            "Loss: nan\n"
          ]
        },
        {
          "name": "stderr",
          "output_type": "stream",
          "text": [
            " 88%|████████▊ | 44/50 [00:19<00:02,  2.29it/s]"
          ]
        },
        {
          "name": "stdout",
          "output_type": "stream",
          "text": [
            "Loss: nan\n"
          ]
        },
        {
          "name": "stderr",
          "output_type": "stream",
          "text": [
            " 90%|█████████ | 45/50 [00:19<00:02,  2.28it/s]"
          ]
        },
        {
          "name": "stdout",
          "output_type": "stream",
          "text": [
            "Loss: nan\n"
          ]
        },
        {
          "name": "stderr",
          "output_type": "stream",
          "text": [
            " 92%|█████████▏| 46/50 [00:20<00:01,  2.28it/s]"
          ]
        },
        {
          "name": "stdout",
          "output_type": "stream",
          "text": [
            "Loss: nan\n"
          ]
        },
        {
          "name": "stderr",
          "output_type": "stream",
          "text": [
            " 94%|█████████▍| 47/50 [00:20<00:01,  2.28it/s]"
          ]
        },
        {
          "name": "stdout",
          "output_type": "stream",
          "text": [
            "Loss: nan\n"
          ]
        },
        {
          "name": "stderr",
          "output_type": "stream",
          "text": [
            " 96%|█████████▌| 48/50 [00:21<00:00,  2.28it/s]"
          ]
        },
        {
          "name": "stdout",
          "output_type": "stream",
          "text": [
            "Loss: nan\n"
          ]
        },
        {
          "name": "stderr",
          "output_type": "stream",
          "text": [
            " 98%|█████████▊| 49/50 [00:21<00:00,  2.27it/s]"
          ]
        },
        {
          "name": "stdout",
          "output_type": "stream",
          "text": [
            "Loss: nan\n"
          ]
        },
        {
          "name": "stderr",
          "output_type": "stream",
          "text": [
            "100%|██████████| 50/50 [00:22<00:00,  2.27it/s]"
          ]
        },
        {
          "name": "stdout",
          "output_type": "stream",
          "text": [
            "Loss: nan\n"
          ]
        },
        {
          "name": "stderr",
          "output_type": "stream",
          "text": [
            "\n"
          ]
        },
        {
          "name": "stdout",
          "output_type": "stream",
          "text": [
            "Last Loss: nan Last vae_model saved to last_vae_model.pth\n",
            "Best Loss: 8690588784440504974858780672.0000 Best vae_model saved to best_vae_model.pth\n"
          ]
        },
        {
          "data": {
            "image/png": "[encoded data removed]",
            "text/plain": [
              "<Figure size 640x480 with 1 Axes>"
            ]
          },
          "metadata": {},
          "output_type": "display_data"
        }
      ],
      "source": [
        "vae_model = VAE(latent_dim=128).to(device)\n",
        "optimizer = optim.Adam(vae_model.parameters(), lr=1e-3)\n",
        "\n",
        "num_epochs = 50\n",
        "best_loss = float('inf')\n",
        "train_losses = []\n",
        "for epoch in tqdm(range(num_epochs)):\n",
        "    vae_model.train()\n",
        "    train_loss = 0\n",
        "    for data in train_loader:\n",
        "        inputs = data.to(device)\n",
        "        optimizer.zero_grad()\n",
        "        recon_x, mu, logvar = vae_model(inputs)\n",
        "        loss = vae_loss(recon_x, inputs, mu, logvar)\n",
        "        loss.backward()\n",
        "        optimizer.step()\n",
        "        train_loss += loss.item()\n",
        "\n",
        "    train_loss /= len(train_loader.dataset)\n",
        "    train_losses.append(train_loss)\n",
        "    print(f'Loss: {train_loss:.4f}')\n",
        "    \n",
        "    if train_loss < best_loss:\n",
        "        best_loss = train_loss\n",
        "        best_model_wts = vae_model.state_dict()\n",
        "\n",
        "torch.save(vae_model.state_dict(), 'last_vae_model.pth')\n",
        "torch.save(best_model_wts, 'best_vae_model.pth')\n",
        "\n",
        "print(f'Last Loss: {train_loss:.4f} Last vae_model saved to last_vae_model.pth')\n",
        "print(f'Best Loss: {best_loss:.4f} Best vae_model saved to best_vae_model.pth')\n",
        "\n",
        "plt.plot(train_losses)\n",
        "plt.xlabel('Epoch')\n",
        "plt.ylabel('Loss')\n",
        "plt.title('Training Loss')\n",
        "plt.show()"
      ]
    },
    {
      "cell_type": "markdown",
      "id": "91b27bb9",
      "metadata": {},
      "source": [
        "# Latent Space Regression Model"
      ]
    },
    {
      "cell_type": "code",
      "execution_count": null,
      "id": "4544598b",
      "metadata": {},
      "outputs": [],
      "source": [
        "class LatentRegressionModel(nn.Module):\n",
        "    def __init__(self, input_dim=1, latent_dim=128):\n",
        "        super(LatentRegressionModel, self).__init__()\n",
        "        self.fc1 = nn.Linear(input_dim, 256)\n",
        "        self.fc2 = nn.Linear(256, 512)\n",
        "        self.fc3 = nn.Linear(512, latent_dim)\n",
        "\n",
        "    def forward(self, x):\n",
        "        x = nn.ReLU()(self.fc1(x))\n",
        "        x = nn.ReLU()(self.fc2(x))\n",
        "        x = self.fc3(x)\n",
        "        return x"
      ]
    },
    {
      "cell_type": "code",
      "execution_count": null,
      "id": "a0f8d1d2",
      "metadata": {},
      "outputs": [],
      "source": [
        "class LatentDataset(Dataset):\n",
        "    def __init__(self, f_values, latent_vectors):\n",
        "        self.f_values = f_values\n",
        "        self.latent_vectors = latent_vectors\n",
        "\n",
        "    def __len__(self):\n",
        "        return len(self.f_values)\n",
        "\n",
        "    def __getitem__(self, idx):\n",
        "        f_value = self.f_values[idx]\n",
        "        latent_vector = self.latent_vectors[idx]\n",
        "        f_tensor = torch.tensor(f_value).float().unsqueeze(0)  # (1,) 형태로 변환\n",
        "        latent_tensor = torch.tensor(latent_vector).float()\n",
        "        return f_tensor, latent_tensor"
      ]
    },
    {
      "cell_type": "code",
      "execution_count": null,
      "id": "07e7004d",
      "metadata": {},
      "outputs": [],
      "source": [
        "vae_model = VAE(latent_dim=128).to(device)\n",
        "vae_model.load_state_dict(torch.load('vae_model.pth'))\n",
        "vae_model.eval()"
      ]
    },
    {
      "cell_type": "code",
      "execution_count": null,
      "id": "a9df50ea",
      "metadata": {},
      "outputs": [],
      "source": [
        "latent_vectors = []\n",
        "with torch.no_grad():\n",
        "    for data in train_loader:\n",
        "        inputs = data.to(device)\n",
        "        _, mu, _ = vae_model.encode(inputs)\n",
        "        latent_vectors.append(mu.cpu().numpy())\n",
        "latent_vectors = np.concatenate(latent_vectors, axis=0)"
      ]
    },
    {
      "cell_type": "code",
      "execution_count": null,
      "id": "e52ac26e",
      "metadata": {},
      "outputs": [],
      "source": [
        "latent_dataset = LatentDataset(f_values, latent_vectors)\n",
        "latent_loader = DataLoader(latent_dataset, batch_size=32, shuffle=True)\n",
        "\n",
        "latent_model = LatentRegressionModel(input_dim=1, latent_dim=128).to(device)\n",
        "optimizer = optim.Adam(latent_model.parameters(), lr=1e-3)\n",
        "criterion = nn.MSELoss()"
      ]
    },
    {
      "cell_type": "code",
      "execution_count": null,
      "id": "225c692e",
      "metadata": {},
      "outputs": [],
      "source": [
        "num_epochs = 100\n",
        "best_loss = float('inf')\n",
        "train_losses = []\n",
        "for epoch in tqdm(range(num_epochs)):\n",
        "    latent_model.train()\n",
        "    train_loss = 0\n",
        "    for f, latent in latent_loader:\n",
        "        f, latent = f.to(device), latent.to(device)\n",
        "        optimizer.zero_grad()\n",
        "        latent_pred = latent_model(f)\n",
        "        loss = criterion(latent_pred, latent)\n",
        "        loss.backward()\n",
        "        optimizer.step()\n",
        "        train_loss += loss.item()\n",
        "\n",
        "    train_loss /= len(train_loader)\n",
        "    train_losses.append(train_loss)\n",
        "    print(f'Loss: {train_loss}')\n",
        "    \n",
        "    if train_loss < best_loss:\n",
        "        best_loss = train_loss\n",
        "        best_model_wts = latent_model.state_dict()\n",
        "\n",
        "torch.save(latent_model.state_dict(), 'last_latent_model.pth')\n",
        "torch.save(best_model_wts, 'best_latent_model.pth')\n",
        "\n",
        "print(f'Last Loss: {train_loss:.4f} Last latent_model saved to last_latent_model.pth')\n",
        "print(f'Best Loss: {best_loss:.4f} Best latent_model saved to best_latent_model.pth')\n",
        "\n",
        "plt.plot(train_losses)\n",
        "plt.xlabel('Epoch')\n",
        "plt.ylabel('Loss')\n",
        "plt.title('Training Loss')\n",
        "plt.show()"
      ]
    },
    {
      "cell_type": "markdown",
      "id": "e524676c",
      "metadata": {},
      "source": [
        "# Inference Model"
      ]
    },
    {
      "cell_type": "code",
      "execution_count": null,
      "id": "d6f9c709",
      "metadata": {},
      "outputs": [],
      "source": [
        "vae_model = VAE(latent_dim=128).to(device)\n",
        "vae_model.load_state_dict(torch.load('vae_model.pth'))\n",
        "vae_model.eval()\n",
        "\n",
        "latent_model = LatentRegressionModel(input_dim=1, latent_dim=128).to(device)\n",
        "latent_model.load_state_dict(torch.load('latent_model.pth'))\n",
        "latent_model.eval()\n",
        "\n",
        "test_f_values = np.array([10, 20, 30])  # 테스트할 f 값들\n",
        "\n",
        "for f in test_f_values:\n",
        "    f_tensor = torch.tensor(f).float().unsqueeze(0).unsqueeze(0).to(device)  # (1, 1) 형태로 변환\n",
        "    with torch.no_grad():\n",
        "        latent_pred = latent_model(f_tensor)\n",
        "        u_pred = vae_model.decode(latent_pred)\n",
        "    \n",
        "    u_pred = u_pred.squeeze().cpu().numpy()\n",
        "    \n",
        "    plt.imshow(u_pred, cmap='viridis', extent=(0, 1, 0, 1))\n",
        "    plt.title(f\"Predicted u for f={f}\")\n",
        "    plt.colorbar()\n",
        "    plt.show()"
      ]
    }
  ],
  "metadata": {
    "accelerator": "GPU",
    "colab": {
      "gpuType": "T4",
      "provenance": []
    },
    "kernelspec": {
      "display_name": "Python 3",
      "name": "python3"
    },
    "language_info": {
      "codemirror_mode": {
        "name": "ipython",
        "version": 3
      },
      "file_extension": ".py",
      "mimetype": "text/x-python",
      "name": "python",
      "nbconvert_exporter": "python",
      "pygments_lexer": "ipython3",
      "version": "3.12.2"
    },
    "toc": {
      "base_numbering": 1,
      "nav_menu": {},
      "number_sections": true,
      "sideBar": true,
      "skip_h1_title": false,
      "title_cell": "Table of Contents",
      "title_sidebar": "Contents",
      "toc_cell": false,
      "toc_position": {},
      "toc_section_display": true,
      "toc_window_display": false
    },
    "varInspector": {
      "cols": {
        "lenName": 16,
        "lenType": 16,
        "lenVar": 40
      },
      "kernels_config": {
        "python": {
          "delete_cmd_postfix": "",
          "delete_cmd_prefix": "del ",
          "library": "var_list.py",
          "varRefreshCmd": "print(var_dic_list())"
        },
        "r": {
          "delete_cmd_postfix": ") ",
          "delete_cmd_prefix": "rm(",
          "library": "var_list.r",
          "varRefreshCmd": "cat(var_dic_list()) "
        }
      },
      "types_to_exclude": [
        "module",
        "function",
        "builtin_function_or_method",
        "instance",
        "_Feature"
      ],
      "window_display": false
    }
  },
  "nbformat": 4,
  "nbformat_minor": 5
}
